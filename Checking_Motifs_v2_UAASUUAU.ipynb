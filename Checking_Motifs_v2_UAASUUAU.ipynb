{
  "nbformat": 4,
  "nbformat_minor": 0,
  "metadata": {
    "colab": {
      "name": "Checking Motifs v2 - UAASUUAU.ipynb",
      "provenance": [],
      "collapsed_sections": [],
      "include_colab_link": true
    },
    "kernelspec": {
      "name": "python3",
      "display_name": "Python 3"
    },
    "language_info": {
      "name": "python"
    }
  },
  "cells": [
    {
      "cell_type": "markdown",
      "metadata": {
        "id": "view-in-github",
        "colab_type": "text"
      },
      "source": [
        "<a href=\"https://colab.research.google.com/github/MarkusFranke/RNA-Half-life-for-tissues/blob/main/Checking_Motifs_v2_UAASUUAU.ipynb\" target=\"_parent\"><img src=\"https://colab.research.google.com/assets/colab-badge.svg\" alt=\"Open In Colab\"/></a>"
      ]
    },
    {
      "cell_type": "code",
      "execution_count": null,
      "metadata": {
        "id": "EKkQxNHexGtb"
      },
      "outputs": [],
      "source": [
        "from Bio import SeqIO #for parsing Fasta Files\n",
        "import pandas as pd\n",
        "from scipy.stats import zscore\n",
        "from kipoiseq.transforms.functional import one_hot, fixed_len\n",
        "import numpy as np\n",
        "import math\n",
        "\n",
        "from sklearn.metrics import explained_variance_score\n",
        "from sklearn.metrics import r2_score\n",
        "from sklearn.model_selection import train_test_split\n",
        "from tensorflow.keras import backend as k\n",
        "from keras.callbacks import EarlyStopping, History\n",
        "from keras.models import Model\n",
        "import tensorflow_addons as tfa\n",
        "import tensorflow as tf\n",
        "import keras.layers as kl\n",
        "import keras\n",
        "import numpy as np\n",
        "import os\n",
        "import subprocess\n",
        "import gc\n",
        "\n",
        "import seaborn as sns\n",
        "import matplotlib.pyplot as plt\n"
      ]
    },
    {
      "cell_type": "markdown",
      "source": [
        "Since we can't run this in google colab due to RAM limitations, I'm importing the data from disk. All the data should be available on google drive though, under the same filenames, either to be downloaded and run with a path to where the user saved them, or to be directly accessible by mounting the google drive (and setting a shortcut to our google drive data path in google drive)\n"
      ],
      "metadata": {
        "id": "ku26rqE7x06J"
      }
    },
    {
      "cell_type": "code",
      "source": [
        "hl = pd.read_excel(r'C:\\Users\\marku\\Desktop\\ML4RG_shared_with_students\\Saluki_Data\\kelley_et_al_corrected_hl.xlsx', skiprows=[0, 1])\n",
        "hl['zscore'] = zscore(hl['half-life (PC1)'])\n",
        "halflife = hl[[\"Ensembl Gene Id\", \"zscore\"]]\n",
        "hl"
      ],
      "metadata": {
        "id": "7vRfq7bIxy4J",
        "colab": {
          "base_uri": "https://localhost:8080/",
          "height": 478
        },
        "outputId": "22755d93-3291-4940-a3d1-9826d1730572"
      },
      "execution_count": null,
      "outputs": [
        {
          "output_type": "execute_result",
          "data": {
            "text/plain": [
              "       Ensembl Gene Id  Gene name  half-life (PC1)  Bazzini_ActD_HEK293_1  \\\n",
              "0      ENSG00000000003     TSPAN6         8.660955               0.763166   \n",
              "1      ENSG00000000419       DPM1         2.241221               0.529938   \n",
              "2      ENSG00000000457      SCYL3        -6.929173              -0.798471   \n",
              "3      ENSG00000000460   C1orf112         0.440909               0.461228   \n",
              "4      ENSG00000000938        FGR        -0.943680               0.164310   \n",
              "...                ...        ...              ...                    ...   \n",
              "13916  ENSG00000284770       TBCE         2.218664               0.100281   \n",
              "13917  ENSG00000285077  ARHGAP11B        -3.262964              -0.733980   \n",
              "13918  ENSG00000288596    C8orf44         2.118850              -0.485957   \n",
              "13919  ENSG00000288701     PRRC2B         0.133147               0.133770   \n",
              "13920  ENSG00000288722       F8A1        -3.485607              -0.607463   \n",
              "\n",
              "       Bazzini_ActD_HeLa_1  Bazzini_ActD_RPE_1  Bazzini_4sU_K562_1  \\\n",
              "0                 0.258448            0.106486            1.019072   \n",
              "1                 0.222678           -0.040666           -0.284952   \n",
              "2                -0.894854           -1.039150           -1.444532   \n",
              "3                 0.195794           -0.739672           -0.123925   \n",
              "4                 0.112064            0.095773            0.045345   \n",
              "...                    ...                 ...                 ...   \n",
              "13916            -0.187624           -0.143422            0.201024   \n",
              "13917            -0.934478           -0.952570           -0.461339   \n",
              "13918            -0.320560           -0.332189            0.582473   \n",
              "13919             0.214899            0.144491            0.090991   \n",
              "13920            -0.419258           -0.378650           -0.775774   \n",
              "\n",
              "       Akimitsu_BrU_HeLa_1  Rinn_ActD_K562_1  Rinn_ActD_K562_2  ...  \\\n",
              "0                 2.022504          1.744745          1.783356  ...   \n",
              "1                 0.145097          0.866919          0.832768  ...   \n",
              "2                -1.287191         -1.006317         -1.062201  ...   \n",
              "3                 0.162538         -0.023056         -0.008479  ...   \n",
              "4                 0.024136         -0.209157         -0.223700  ...   \n",
              "...                    ...               ...               ...  ...   \n",
              "13916             0.933352          0.465403          0.451758  ...   \n",
              "13917            -0.940048          0.225157          0.161858  ...   \n",
              "13918            -0.614775          0.305297          0.336730  ...   \n",
              "13919             0.131956         -0.040831         -0.035576  ...   \n",
              "13920             0.400149         -1.060379         -1.033201  ...   \n",
              "\n",
              "       Gejman_4sU_GM12812_1  Gejman_4sU_GM12814_1  Gejman_4sU_GM12815_1  \\\n",
              "0                  1.037361              0.969166              1.209562   \n",
              "1                 -0.212424             -0.747989              0.371214   \n",
              "2                 -1.155096             -1.421651             -1.568912   \n",
              "3                  1.365208              1.017193             -0.239569   \n",
              "4                  0.722198              1.024313              1.484018   \n",
              "...                     ...                   ...                   ...   \n",
              "13916              1.082013              0.917651              0.897480   \n",
              "13917              0.256969              0.033071             -0.249782   \n",
              "13918              1.023526             -0.155662             -0.950892   \n",
              "13919             -0.091563             -0.021327             -0.017414   \n",
              "13920              0.433892              0.446224              1.344124   \n",
              "\n",
              "       Simon_4sU_K562_1  Simon_4sU_K562_2  Rissland_4sU_HEK293_1  \\\n",
              "0              2.080643          2.095154               0.674058   \n",
              "1              0.772595          0.712843              -0.350914   \n",
              "2             -1.308978         -1.311572              -0.387172   \n",
              "3              0.373929          0.380154              -0.063720   \n",
              "4             -0.375671         -0.384504               0.232924   \n",
              "...                 ...               ...                    ...   \n",
              "13916          0.866792          0.868080              -0.104068   \n",
              "13917         -1.116405         -1.078302              -1.495412   \n",
              "13918         -0.175193         -0.166760               2.505294   \n",
              "13919          0.088581          0.107441               0.345123   \n",
              "13920         -0.631782         -0.629741              -0.413725   \n",
              "\n",
              "       Rissland_4sU_HEK293_2  Rissland_4sU_HEK293_3  Rissland_4sU_HEK293_4  \\\n",
              "0                   1.120375               1.456258               1.791769   \n",
              "1                  -0.879247              -0.825603               0.109861   \n",
              "2                  -1.229226              -1.122749              -0.570002   \n",
              "3                  -0.450610              -0.805719               0.453957   \n",
              "4                   0.347933               0.266619               0.063565   \n",
              "...                      ...                    ...                    ...   \n",
              "13916              -0.169414              -0.404886              -0.165188   \n",
              "13917              -1.006317              -1.240272              -1.440629   \n",
              "13918               1.068162               1.307039               1.563308   \n",
              "13919              -0.188176              -0.119128               0.001050   \n",
              "13920              -0.071227              -0.105036              -0.197549   \n",
              "\n",
              "         zscore  \n",
              "0      1.807620  \n",
              "1      0.467763  \n",
              "2     -1.446182  \n",
              "3      0.092022  \n",
              "4     -0.196955  \n",
              "...         ...  \n",
              "13916  0.463055  \n",
              "13917 -0.681011  \n",
              "13918  0.442223  \n",
              "13919  0.027789  \n",
              "13920 -0.727478  \n",
              "\n",
              "[13921 rows x 58 columns]"
            ],
            "text/html": [
              "<div>\n",
              "<style scoped>\n",
              "    .dataframe tbody tr th:only-of-type {\n",
              "        vertical-align: middle;\n",
              "    }\n",
              "\n",
              "    .dataframe tbody tr th {\n",
              "        vertical-align: top;\n",
              "    }\n",
              "\n",
              "    .dataframe thead th {\n",
              "        text-align: right;\n",
              "    }\n",
              "</style>\n",
              "<table border=\"1\" class=\"dataframe\">\n",
              "  <thead>\n",
              "    <tr style=\"text-align: right;\">\n",
              "      <th></th>\n",
              "      <th>Ensembl Gene Id</th>\n",
              "      <th>Gene name</th>\n",
              "      <th>half-life (PC1)</th>\n",
              "      <th>Bazzini_ActD_HEK293_1</th>\n",
              "      <th>Bazzini_ActD_HeLa_1</th>\n",
              "      <th>Bazzini_ActD_RPE_1</th>\n",
              "      <th>Bazzini_4sU_K562_1</th>\n",
              "      <th>Akimitsu_BrU_HeLa_1</th>\n",
              "      <th>Rinn_ActD_K562_1</th>\n",
              "      <th>Rinn_ActD_K562_2</th>\n",
              "      <th>...</th>\n",
              "      <th>Gejman_4sU_GM12812_1</th>\n",
              "      <th>Gejman_4sU_GM12814_1</th>\n",
              "      <th>Gejman_4sU_GM12815_1</th>\n",
              "      <th>Simon_4sU_K562_1</th>\n",
              "      <th>Simon_4sU_K562_2</th>\n",
              "      <th>Rissland_4sU_HEK293_1</th>\n",
              "      <th>Rissland_4sU_HEK293_2</th>\n",
              "      <th>Rissland_4sU_HEK293_3</th>\n",
              "      <th>Rissland_4sU_HEK293_4</th>\n",
              "      <th>zscore</th>\n",
              "    </tr>\n",
              "  </thead>\n",
              "  <tbody>\n",
              "    <tr>\n",
              "      <th>0</th>\n",
              "      <td>ENSG00000000003</td>\n",
              "      <td>TSPAN6</td>\n",
              "      <td>8.660955</td>\n",
              "      <td>0.763166</td>\n",
              "      <td>0.258448</td>\n",
              "      <td>0.106486</td>\n",
              "      <td>1.019072</td>\n",
              "      <td>2.022504</td>\n",
              "      <td>1.744745</td>\n",
              "      <td>1.783356</td>\n",
              "      <td>...</td>\n",
              "      <td>1.037361</td>\n",
              "      <td>0.969166</td>\n",
              "      <td>1.209562</td>\n",
              "      <td>2.080643</td>\n",
              "      <td>2.095154</td>\n",
              "      <td>0.674058</td>\n",
              "      <td>1.120375</td>\n",
              "      <td>1.456258</td>\n",
              "      <td>1.791769</td>\n",
              "      <td>1.807620</td>\n",
              "    </tr>\n",
              "    <tr>\n",
              "      <th>1</th>\n",
              "      <td>ENSG00000000419</td>\n",
              "      <td>DPM1</td>\n",
              "      <td>2.241221</td>\n",
              "      <td>0.529938</td>\n",
              "      <td>0.222678</td>\n",
              "      <td>-0.040666</td>\n",
              "      <td>-0.284952</td>\n",
              "      <td>0.145097</td>\n",
              "      <td>0.866919</td>\n",
              "      <td>0.832768</td>\n",
              "      <td>...</td>\n",
              "      <td>-0.212424</td>\n",
              "      <td>-0.747989</td>\n",
              "      <td>0.371214</td>\n",
              "      <td>0.772595</td>\n",
              "      <td>0.712843</td>\n",
              "      <td>-0.350914</td>\n",
              "      <td>-0.879247</td>\n",
              "      <td>-0.825603</td>\n",
              "      <td>0.109861</td>\n",
              "      <td>0.467763</td>\n",
              "    </tr>\n",
              "    <tr>\n",
              "      <th>2</th>\n",
              "      <td>ENSG00000000457</td>\n",
              "      <td>SCYL3</td>\n",
              "      <td>-6.929173</td>\n",
              "      <td>-0.798471</td>\n",
              "      <td>-0.894854</td>\n",
              "      <td>-1.039150</td>\n",
              "      <td>-1.444532</td>\n",
              "      <td>-1.287191</td>\n",
              "      <td>-1.006317</td>\n",
              "      <td>-1.062201</td>\n",
              "      <td>...</td>\n",
              "      <td>-1.155096</td>\n",
              "      <td>-1.421651</td>\n",
              "      <td>-1.568912</td>\n",
              "      <td>-1.308978</td>\n",
              "      <td>-1.311572</td>\n",
              "      <td>-0.387172</td>\n",
              "      <td>-1.229226</td>\n",
              "      <td>-1.122749</td>\n",
              "      <td>-0.570002</td>\n",
              "      <td>-1.446182</td>\n",
              "    </tr>\n",
              "    <tr>\n",
              "      <th>3</th>\n",
              "      <td>ENSG00000000460</td>\n",
              "      <td>C1orf112</td>\n",
              "      <td>0.440909</td>\n",
              "      <td>0.461228</td>\n",
              "      <td>0.195794</td>\n",
              "      <td>-0.739672</td>\n",
              "      <td>-0.123925</td>\n",
              "      <td>0.162538</td>\n",
              "      <td>-0.023056</td>\n",
              "      <td>-0.008479</td>\n",
              "      <td>...</td>\n",
              "      <td>1.365208</td>\n",
              "      <td>1.017193</td>\n",
              "      <td>-0.239569</td>\n",
              "      <td>0.373929</td>\n",
              "      <td>0.380154</td>\n",
              "      <td>-0.063720</td>\n",
              "      <td>-0.450610</td>\n",
              "      <td>-0.805719</td>\n",
              "      <td>0.453957</td>\n",
              "      <td>0.092022</td>\n",
              "    </tr>\n",
              "    <tr>\n",
              "      <th>4</th>\n",
              "      <td>ENSG00000000938</td>\n",
              "      <td>FGR</td>\n",
              "      <td>-0.943680</td>\n",
              "      <td>0.164310</td>\n",
              "      <td>0.112064</td>\n",
              "      <td>0.095773</td>\n",
              "      <td>0.045345</td>\n",
              "      <td>0.024136</td>\n",
              "      <td>-0.209157</td>\n",
              "      <td>-0.223700</td>\n",
              "      <td>...</td>\n",
              "      <td>0.722198</td>\n",
              "      <td>1.024313</td>\n",
              "      <td>1.484018</td>\n",
              "      <td>-0.375671</td>\n",
              "      <td>-0.384504</td>\n",
              "      <td>0.232924</td>\n",
              "      <td>0.347933</td>\n",
              "      <td>0.266619</td>\n",
              "      <td>0.063565</td>\n",
              "      <td>-0.196955</td>\n",
              "    </tr>\n",
              "    <tr>\n",
              "      <th>...</th>\n",
              "      <td>...</td>\n",
              "      <td>...</td>\n",
              "      <td>...</td>\n",
              "      <td>...</td>\n",
              "      <td>...</td>\n",
              "      <td>...</td>\n",
              "      <td>...</td>\n",
              "      <td>...</td>\n",
              "      <td>...</td>\n",
              "      <td>...</td>\n",
              "      <td>...</td>\n",
              "      <td>...</td>\n",
              "      <td>...</td>\n",
              "      <td>...</td>\n",
              "      <td>...</td>\n",
              "      <td>...</td>\n",
              "      <td>...</td>\n",
              "      <td>...</td>\n",
              "      <td>...</td>\n",
              "      <td>...</td>\n",
              "      <td>...</td>\n",
              "    </tr>\n",
              "    <tr>\n",
              "      <th>13916</th>\n",
              "      <td>ENSG00000284770</td>\n",
              "      <td>TBCE</td>\n",
              "      <td>2.218664</td>\n",
              "      <td>0.100281</td>\n",
              "      <td>-0.187624</td>\n",
              "      <td>-0.143422</td>\n",
              "      <td>0.201024</td>\n",
              "      <td>0.933352</td>\n",
              "      <td>0.465403</td>\n",
              "      <td>0.451758</td>\n",
              "      <td>...</td>\n",
              "      <td>1.082013</td>\n",
              "      <td>0.917651</td>\n",
              "      <td>0.897480</td>\n",
              "      <td>0.866792</td>\n",
              "      <td>0.868080</td>\n",
              "      <td>-0.104068</td>\n",
              "      <td>-0.169414</td>\n",
              "      <td>-0.404886</td>\n",
              "      <td>-0.165188</td>\n",
              "      <td>0.463055</td>\n",
              "    </tr>\n",
              "    <tr>\n",
              "      <th>13917</th>\n",
              "      <td>ENSG00000285077</td>\n",
              "      <td>ARHGAP11B</td>\n",
              "      <td>-3.262964</td>\n",
              "      <td>-0.733980</td>\n",
              "      <td>-0.934478</td>\n",
              "      <td>-0.952570</td>\n",
              "      <td>-0.461339</td>\n",
              "      <td>-0.940048</td>\n",
              "      <td>0.225157</td>\n",
              "      <td>0.161858</td>\n",
              "      <td>...</td>\n",
              "      <td>0.256969</td>\n",
              "      <td>0.033071</td>\n",
              "      <td>-0.249782</td>\n",
              "      <td>-1.116405</td>\n",
              "      <td>-1.078302</td>\n",
              "      <td>-1.495412</td>\n",
              "      <td>-1.006317</td>\n",
              "      <td>-1.240272</td>\n",
              "      <td>-1.440629</td>\n",
              "      <td>-0.681011</td>\n",
              "    </tr>\n",
              "    <tr>\n",
              "      <th>13918</th>\n",
              "      <td>ENSG00000288596</td>\n",
              "      <td>C8orf44</td>\n",
              "      <td>2.118850</td>\n",
              "      <td>-0.485957</td>\n",
              "      <td>-0.320560</td>\n",
              "      <td>-0.332189</td>\n",
              "      <td>0.582473</td>\n",
              "      <td>-0.614775</td>\n",
              "      <td>0.305297</td>\n",
              "      <td>0.336730</td>\n",
              "      <td>...</td>\n",
              "      <td>1.023526</td>\n",
              "      <td>-0.155662</td>\n",
              "      <td>-0.950892</td>\n",
              "      <td>-0.175193</td>\n",
              "      <td>-0.166760</td>\n",
              "      <td>2.505294</td>\n",
              "      <td>1.068162</td>\n",
              "      <td>1.307039</td>\n",
              "      <td>1.563308</td>\n",
              "      <td>0.442223</td>\n",
              "    </tr>\n",
              "    <tr>\n",
              "      <th>13919</th>\n",
              "      <td>ENSG00000288701</td>\n",
              "      <td>PRRC2B</td>\n",
              "      <td>0.133147</td>\n",
              "      <td>0.133770</td>\n",
              "      <td>0.214899</td>\n",
              "      <td>0.144491</td>\n",
              "      <td>0.090991</td>\n",
              "      <td>0.131956</td>\n",
              "      <td>-0.040831</td>\n",
              "      <td>-0.035576</td>\n",
              "      <td>...</td>\n",
              "      <td>-0.091563</td>\n",
              "      <td>-0.021327</td>\n",
              "      <td>-0.017414</td>\n",
              "      <td>0.088581</td>\n",
              "      <td>0.107441</td>\n",
              "      <td>0.345123</td>\n",
              "      <td>-0.188176</td>\n",
              "      <td>-0.119128</td>\n",
              "      <td>0.001050</td>\n",
              "      <td>0.027789</td>\n",
              "    </tr>\n",
              "    <tr>\n",
              "      <th>13920</th>\n",
              "      <td>ENSG00000288722</td>\n",
              "      <td>F8A1</td>\n",
              "      <td>-3.485607</td>\n",
              "      <td>-0.607463</td>\n",
              "      <td>-0.419258</td>\n",
              "      <td>-0.378650</td>\n",
              "      <td>-0.775774</td>\n",
              "      <td>0.400149</td>\n",
              "      <td>-1.060379</td>\n",
              "      <td>-1.033201</td>\n",
              "      <td>...</td>\n",
              "      <td>0.433892</td>\n",
              "      <td>0.446224</td>\n",
              "      <td>1.344124</td>\n",
              "      <td>-0.631782</td>\n",
              "      <td>-0.629741</td>\n",
              "      <td>-0.413725</td>\n",
              "      <td>-0.071227</td>\n",
              "      <td>-0.105036</td>\n",
              "      <td>-0.197549</td>\n",
              "      <td>-0.727478</td>\n",
              "    </tr>\n",
              "  </tbody>\n",
              "</table>\n",
              "<p>13921 rows × 58 columns</p>\n",
              "</div>"
            ]
          },
          "metadata": {},
          "execution_count": 2
        }
      ]
    },
    {
      "cell_type": "code",
      "source": [
        "with open(r'C:\\Users\\marku\\Desktop\\ML4RG_shared_with_students\\Saluki_Data\\Homo_sapiens.GRCh38.83.chosenTranscript.3pUTRs.fa') as fasta_file:  # Will close handle cleanly\n",
        "    UTR3_identifiers = []\n",
        "    UTR3_seqs = []\n",
        "    for seq_record in SeqIO.parse(fasta_file, 'fasta'):  # (generator)\n",
        "        UTR3_identifiers.append(seq_record.id)\n",
        "        UTR3_seqs.append(seq_record.seq)\n",
        "\n",
        "with open(r'C:\\Users\\marku\\Desktop\\ML4RG_shared_with_students\\Saluki_Data\\Homo_sapiens.GRCh38.83.chosenTranscript.5pUTRs.fa') as fasta_file:  # Will close handle cleanly\n",
        "    UTR5_identifiers = []\n",
        "    UTR5_seqs = []\n",
        "    for seq_record in SeqIO.parse(fasta_file, 'fasta'):  # (generator)\n",
        "        UTR5_identifiers.append(seq_record.id)\n",
        "        UTR5_seqs.append(seq_record.seq)\n",
        "\n",
        "with open(r'C:\\Users\\marku\\Desktop\\ML4RG_shared_with_students\\Saluki_Data\\Homo_sapiens.GRCh38.83.chosenTranscript.ORFs.fa') as fasta_file:  # Will close handle cleanly\n",
        "    ORF_identifiers = []\n",
        "    ORF_seqs = []\n",
        "    for seq_record in SeqIO.parse(fasta_file, 'fasta'):  # (generator)\n",
        "        ORF_identifiers.append(seq_record.id)\n",
        "        ORF_seqs.append(seq_record.seq)\n",
        "\n",
        "print(UTR3_seqs[0])\n",
        "print(UTR5_seqs[0])\n",
        "print(ORF_seqs[0])\n",
        "print(UTR3_identifiers[0])\n",
        "print(UTR5_identifiers[0])\n",
        "print(ORF_identifiers[0])\n",
        "print(len(UTR3_seqs))\n",
        "print(len(UTR5_seqs))\n",
        "print(len(ORF_seqs))"
      ],
      "metadata": {
        "id": "JFU1gCykz-M7",
        "colab": {
          "base_uri": "https://localhost:8080/"
        },
        "outputId": "c9f00c23-e2f9-409d-d02d-a1a030415338"
      },
      "execution_count": null,
      "outputs": [
        {
          "output_type": "stream",
          "name": "stdout",
          "text": [
            "AATATTATGTATGCAGCAATATTTGAGTAACAAGAAGCAAATATCCAAGTTCCAAAATTATAAAAGAAATTCTTATCCAAATAGTAATGTTCTAATTGATCATATAAGAAAGCAAAGCATAGACATTAGAATTATAAGTCAGCAGTGGTCTGTTCAAGAACAATCAACATTTTTAGAAAATAGTAGGACAAAATTAGGAAATAATTATCACCAAGAGGATCTAGTTCATGACTTTCTATTATCTCAATTAGATTGCTCAATCATCAGCCTTCCTATACTAAACTCTGATTCAGGACCAAGAAAGGCATAGTCTGACTCTGGAAATGCGCTGTTGGAAGCCAAATAACATCAATACTCTTGTTCTATAATTGAATATCAAATAAGACAAATTACCATTAATTTAATGACTGTGGAGTTAATTGTATACCAGCATTTCAGCAAATCATCATCAATAGTATTACATTAGCAATTTATGCAATTAAAAGGGCTTTGTAAAACTTTGAATAGATTTTATTGTCATTAGTAGCTGTTGGAACTTCATTATTATATAATGTTTTTGCAAACTTTAACTTTTTTCTAAATTGTTAAATAAAAGAATAACTATCCTTAATCTAAATAATTTTGGTAGCAAATCCTATAAGGTATTAAACATTTTAAGGTATATTATTACATTGCTATTTTACTGTTTCTCATTAACCCAAACAGTTTAAAGGCAGAATTCCACTTAGAAACAAGTTGCATTTTGAAAGTTTATTTGTAATCCATTTGTTTGGAATTCAGAAATGTATTTCACATAAAAATAATCTTGGAAGTAATAAATTCCAAAATTAACTAACAAAA\n",
            "AGATGAGATTTCATCATGTTGGCCAGCCTGGTCTCAAACTCCTGACCTCAAGTGACCCGCCTGCCTCAGCCTCCCAAAGTGCTGGGATTACAGGAATTTAGTGATTGACA\n",
            "ATGGCAGAAAAAATCCTAGAGAAGTTGGATGTCCTTGATAAGCAAGCAGAGATAATCTTGGCCAGAAGAACAAAGATAAACAGGCTTCAGAGTGAAGGAAGAAAAACAACTATGGCTATACCCCTGACATTTGATTTTCAGTTGGAATTTGAAGAAGCTCTTGCTACATCCGCGTCTAAGGCAATATCAAAGATCAAAGAAGACAAGTCATGCAGCATTACAAAATCAAAAATGCATGTCTCTTTCAAATGTGAGCCTGAACCTAGAAAGAGTAATTTTGAAAAGTCAAATTTAAGACCATTCTTTATTCAAACAAATGTAAAAAATAAAGAAAGTGAGTCAACAGCTCAAATTGAAAAAAAACCTAGGAAACCATTGGATTCTGTTGGTCTCTTAGAAGGTGATAGAAATAAAAGAAAAAAATCTCCACAGATGAACGATTTTAATATAAAAGAAAACAAATCGGTCAGAAATTATCAATTAAGTAAGTATAGGTCAGTAAGAAAGAAAAGCTTGCTCCCGTTGTGCTTTGAGGATGAATTGAAAAATCCACATGCCAAGATAGTCAACGTTAGTCCAACAAAGACAGTAACTTCTCACATGGAACAAAAGGACACAAATCCCATAATTTTCCATGACACAGAATATGTACGAATGTTACTTTTGACAAAAAATAGATTTTCTTCTCATCCTTTGGAAAATGAAAACATTTACCCACATAAAAGAACAAATTTCATTTTAGAAAGAAATTGTGAAATCCTCAAATCTATAATTGGCAATCAATCTATTTCTCTTTTCAAACCCCAAAAAACTATGCCTACAGTACAGAGAAAAGATATACAGATCCCTATGTCTTTTAAAGCGGGCCACACAACTGTAGATGATAAACTAAAGAAGAAAACTAATAAGCAGACACTAGAAAACAGATCTTGGAATACACTCTATAATTTCTCACAGAATTTTTCTAGCCTAACAAAACAATTTGTGGGTTACCTTGATAAAGCTGTTATTCATGAAATGAGTGCCCAAACTGGAAAATTTGAAAGAATGTTTTCTGCAGGAAAACCAACGAGCATACCCACATCCAGTGCCTTACCTGTCAAATGTTACTCAAAGCCTTTTAAATATATATATGAACTAAATAATGTAACGCCACTGGATAATTTGTTAAACTTATCAAATGAAATTTTAAATGCCTCA\n",
            "ENSG00000203963\n",
            "ENSG00000203963\n",
            "ENSG00000203963\n",
            "19094\n",
            "18642\n",
            "20253\n"
          ]
        }
      ]
    },
    {
      "cell_type": "code",
      "source": [
        "exons = pd.read_csv(r'C:\\Users\\marku\\Desktop\\ML4RG_shared_with_students\\Saluki_Data\\Kelley_et_al_exon_junctions.txt', delimiter = \"\\t\")\n",
        "exons"
      ],
      "metadata": {
        "id": "HrhPuo0w0di6",
        "colab": {
          "base_uri": "https://localhost:8080/",
          "height": 424
        },
        "outputId": "775a6fe0-6117-4469-8647-831e11913c5a"
      },
      "execution_count": null,
      "outputs": [
        {
          "output_type": "execute_result",
          "data": {
            "text/plain": [
              "                GeneID  UTR5_len  \\\n",
              "0      ENSG00000000003       112   \n",
              "1      ENSG00000000457       222   \n",
              "2      ENSG00000000460       700   \n",
              "3      ENSG00000000938       289   \n",
              "4      ENSG00000000971       240   \n",
              "...                ...       ...   \n",
              "13225  ENSG00000278615        48   \n",
              "13226  ENSG00000278619       239   \n",
              "13227  ENSG00000278845       161   \n",
              "13228  ENSG00000280789       574   \n",
              "13229  ENSG00000281991       330   \n",
              "\n",
              "                         Exon_Junctions_In_Full_Sequence  \n",
              "0                                199,388,463,562,697,781  \n",
              "1      387,573,687,744,847,959,1037,1177,1362,1534,16...  \n",
              "2      766,871,1012,1178,1263,1402,1483,1548,1697,182...  \n",
              "3           515,618,717,821,971,1127,1307,1384,1538,1670  \n",
              "4      298,484,590,667,859,1030,1204,1399,1576,1759,1...  \n",
              "...                                                  ...  \n",
              "13225                                         87,212,310  \n",
              "13226                                  781,875,1008,1128  \n",
              "13227                        227,405,523,622,671,821,995  \n",
              "13228                                          1056,1139  \n",
              "13229                                                495  \n",
              "\n",
              "[13230 rows x 3 columns]"
            ],
            "text/html": [
              "<div>\n",
              "<style scoped>\n",
              "    .dataframe tbody tr th:only-of-type {\n",
              "        vertical-align: middle;\n",
              "    }\n",
              "\n",
              "    .dataframe tbody tr th {\n",
              "        vertical-align: top;\n",
              "    }\n",
              "\n",
              "    .dataframe thead th {\n",
              "        text-align: right;\n",
              "    }\n",
              "</style>\n",
              "<table border=\"1\" class=\"dataframe\">\n",
              "  <thead>\n",
              "    <tr style=\"text-align: right;\">\n",
              "      <th></th>\n",
              "      <th>GeneID</th>\n",
              "      <th>UTR5_len</th>\n",
              "      <th>Exon_Junctions_In_Full_Sequence</th>\n",
              "    </tr>\n",
              "  </thead>\n",
              "  <tbody>\n",
              "    <tr>\n",
              "      <th>0</th>\n",
              "      <td>ENSG00000000003</td>\n",
              "      <td>112</td>\n",
              "      <td>199,388,463,562,697,781</td>\n",
              "    </tr>\n",
              "    <tr>\n",
              "      <th>1</th>\n",
              "      <td>ENSG00000000457</td>\n",
              "      <td>222</td>\n",
              "      <td>387,573,687,744,847,959,1037,1177,1362,1534,16...</td>\n",
              "    </tr>\n",
              "    <tr>\n",
              "      <th>2</th>\n",
              "      <td>ENSG00000000460</td>\n",
              "      <td>700</td>\n",
              "      <td>766,871,1012,1178,1263,1402,1483,1548,1697,182...</td>\n",
              "    </tr>\n",
              "    <tr>\n",
              "      <th>3</th>\n",
              "      <td>ENSG00000000938</td>\n",
              "      <td>289</td>\n",
              "      <td>515,618,717,821,971,1127,1307,1384,1538,1670</td>\n",
              "    </tr>\n",
              "    <tr>\n",
              "      <th>4</th>\n",
              "      <td>ENSG00000000971</td>\n",
              "      <td>240</td>\n",
              "      <td>298,484,590,667,859,1030,1204,1399,1576,1759,1...</td>\n",
              "    </tr>\n",
              "    <tr>\n",
              "      <th>...</th>\n",
              "      <td>...</td>\n",
              "      <td>...</td>\n",
              "      <td>...</td>\n",
              "    </tr>\n",
              "    <tr>\n",
              "      <th>13225</th>\n",
              "      <td>ENSG00000278615</td>\n",
              "      <td>48</td>\n",
              "      <td>87,212,310</td>\n",
              "    </tr>\n",
              "    <tr>\n",
              "      <th>13226</th>\n",
              "      <td>ENSG00000278619</td>\n",
              "      <td>239</td>\n",
              "      <td>781,875,1008,1128</td>\n",
              "    </tr>\n",
              "    <tr>\n",
              "      <th>13227</th>\n",
              "      <td>ENSG00000278845</td>\n",
              "      <td>161</td>\n",
              "      <td>227,405,523,622,671,821,995</td>\n",
              "    </tr>\n",
              "    <tr>\n",
              "      <th>13228</th>\n",
              "      <td>ENSG00000280789</td>\n",
              "      <td>574</td>\n",
              "      <td>1056,1139</td>\n",
              "    </tr>\n",
              "    <tr>\n",
              "      <th>13229</th>\n",
              "      <td>ENSG00000281991</td>\n",
              "      <td>330</td>\n",
              "      <td>495</td>\n",
              "    </tr>\n",
              "  </tbody>\n",
              "</table>\n",
              "<p>13230 rows × 3 columns</p>\n",
              "</div>"
            ]
          },
          "metadata": {},
          "execution_count": 4
        }
      ]
    },
    {
      "cell_type": "code",
      "source": [
        "chromosomes = pd.read_csv(r'C:\\Users\\marku\\Desktop\\ML4RG_shared_with_students\\Saluki_Data\\Kelley_et_al_chromosomes.txt', delimiter = \"\\t\")\n",
        "chromosomes"
      ],
      "metadata": {
        "id": "N_zoThwx0u0w",
        "colab": {
          "base_uri": "https://localhost:8080/",
          "height": 424
        },
        "outputId": "6e44be0e-2db1-4454-ae13-fc9838ab3e21"
      },
      "execution_count": null,
      "outputs": [
        {
          "output_type": "execute_result",
          "data": {
            "text/plain": [
              "                GeneID  Chromosome\n",
              "0      ENSG00000186092           1\n",
              "1      ENSG00000279928           1\n",
              "2      ENSG00000279457           1\n",
              "3      ENSG00000278566           1\n",
              "4      ENSG00000273547           1\n",
              "...                ...         ...\n",
              "20290  ENSG00000277856  KI270726.1\n",
              "20291  ENSG00000275063  KI270726.1\n",
              "20292  ENSG00000271254  KI270711.1\n",
              "20293  ENSG00000277475  KI270713.1\n",
              "20294  ENSG00000268674  KI270713.1\n",
              "\n",
              "[20295 rows x 2 columns]"
            ],
            "text/html": [
              "<div>\n",
              "<style scoped>\n",
              "    .dataframe tbody tr th:only-of-type {\n",
              "        vertical-align: middle;\n",
              "    }\n",
              "\n",
              "    .dataframe tbody tr th {\n",
              "        vertical-align: top;\n",
              "    }\n",
              "\n",
              "    .dataframe thead th {\n",
              "        text-align: right;\n",
              "    }\n",
              "</style>\n",
              "<table border=\"1\" class=\"dataframe\">\n",
              "  <thead>\n",
              "    <tr style=\"text-align: right;\">\n",
              "      <th></th>\n",
              "      <th>GeneID</th>\n",
              "      <th>Chromosome</th>\n",
              "    </tr>\n",
              "  </thead>\n",
              "  <tbody>\n",
              "    <tr>\n",
              "      <th>0</th>\n",
              "      <td>ENSG00000186092</td>\n",
              "      <td>1</td>\n",
              "    </tr>\n",
              "    <tr>\n",
              "      <th>1</th>\n",
              "      <td>ENSG00000279928</td>\n",
              "      <td>1</td>\n",
              "    </tr>\n",
              "    <tr>\n",
              "      <th>2</th>\n",
              "      <td>ENSG00000279457</td>\n",
              "      <td>1</td>\n",
              "    </tr>\n",
              "    <tr>\n",
              "      <th>3</th>\n",
              "      <td>ENSG00000278566</td>\n",
              "      <td>1</td>\n",
              "    </tr>\n",
              "    <tr>\n",
              "      <th>4</th>\n",
              "      <td>ENSG00000273547</td>\n",
              "      <td>1</td>\n",
              "    </tr>\n",
              "    <tr>\n",
              "      <th>...</th>\n",
              "      <td>...</td>\n",
              "      <td>...</td>\n",
              "    </tr>\n",
              "    <tr>\n",
              "      <th>20290</th>\n",
              "      <td>ENSG00000277856</td>\n",
              "      <td>KI270726.1</td>\n",
              "    </tr>\n",
              "    <tr>\n",
              "      <th>20291</th>\n",
              "      <td>ENSG00000275063</td>\n",
              "      <td>KI270726.1</td>\n",
              "    </tr>\n",
              "    <tr>\n",
              "      <th>20292</th>\n",
              "      <td>ENSG00000271254</td>\n",
              "      <td>KI270711.1</td>\n",
              "    </tr>\n",
              "    <tr>\n",
              "      <th>20293</th>\n",
              "      <td>ENSG00000277475</td>\n",
              "      <td>KI270713.1</td>\n",
              "    </tr>\n",
              "    <tr>\n",
              "      <th>20294</th>\n",
              "      <td>ENSG00000268674</td>\n",
              "      <td>KI270713.1</td>\n",
              "    </tr>\n",
              "  </tbody>\n",
              "</table>\n",
              "<p>20295 rows × 2 columns</p>\n",
              "</div>"
            ]
          },
          "metadata": {},
          "execution_count": 5
        }
      ]
    },
    {
      "cell_type": "code",
      "source": [
        "chromosomes['Chromosome'].value_counts()"
      ],
      "metadata": {
        "id": "i7fzASja1JI6",
        "colab": {
          "base_uri": "https://localhost:8080/"
        },
        "outputId": "8a03410c-20ac-4699-dd90-2f02dbae9cc7"
      },
      "execution_count": null,
      "outputs": [
        {
          "output_type": "execute_result",
          "data": {
            "text/plain": [
              "1             2053\n",
              "19            1458\n",
              "11            1316\n",
              "2             1298\n",
              "17            1185\n",
              "3             1070\n",
              "6             1045\n",
              "12            1033\n",
              "7              980\n",
              "5              868\n",
              "16             865\n",
              "X              824\n",
              "14             824\n",
              "9              772\n",
              "4              747\n",
              "10             730\n",
              "8              670\n",
              "15             609\n",
              "20             541\n",
              "22             489\n",
              "13             320\n",
              "18             269\n",
              "21             233\n",
              "Y               54\n",
              "MT              13\n",
              "KI270728.1       6\n",
              "KI270727.1       4\n",
              "KI270734.1       3\n",
              "GL000194.1       2\n",
              "GL000195.1       2\n",
              "KI270726.1       2\n",
              "KI270713.1       2\n",
              "GL000009.2       1\n",
              "GL000205.2       1\n",
              "GL000219.1       1\n",
              "GL000213.1       1\n",
              "GL000218.1       1\n",
              "KI270731.1       1\n",
              "KI270721.1       1\n",
              "KI270711.1       1\n",
              "Name: Chromosome, dtype: int64"
            ]
          },
          "metadata": {},
          "execution_count": 6
        }
      ]
    },
    {
      "cell_type": "markdown",
      "source": [
        ""
      ],
      "metadata": {
        "id": "XRaMXVFv1YvF"
      }
    },
    {
      "cell_type": "code",
      "source": [
        "rbp_k = np.load(r'C:\\Users\\marku\\Desktop\\ML4RG_shared_with_students\\Saluki_Data\\RBP_k.npy')\n",
        "rbp_k.shape"
      ],
      "metadata": {
        "id": "pNwe4p0T4_u7",
        "colab": {
          "base_uri": "https://localhost:8080/"
        },
        "outputId": "81892cf4-a8cf-4931-cbbc-54f5ffcdcaaf"
      },
      "execution_count": null,
      "outputs": [
        {
          "output_type": "execute_result",
          "data": {
            "text/plain": [
              "(13230, 59)"
            ]
          },
          "metadata": {},
          "execution_count": 7
        }
      ]
    },
    {
      "cell_type": "markdown",
      "source": [
        "So not only do we have much more chromosomes, we the data comes from Pedro (df), Saluki (the sequences), from Pauline (chromosomes, exon junctions, via Saluki-chosen transcript), and from Yasmine (RBPs using Deepripe).\n",
        "Thus we should take good care that we merge the tables correctly."
      ],
      "metadata": {
        "id": "ITVKHQAf5c5x"
      }
    },
    {
      "cell_type": "code",
      "source": [
        "d = {'geneID': UTR5_identifiers, 'UTR5_seqs': UTR5_seqs}\n",
        "UTR5 = pd.DataFrame(data=d)\n",
        "d = {'geneID': ORF_identifiers, 'ORF_seqs': ORF_seqs}\n",
        "ORF = pd.DataFrame(data=d)\n",
        "d = {'geneID': UTR3_identifiers, 'UTR3_seqs': UTR3_seqs}\n",
        "UTR3 = pd.DataFrame(data=d)\n",
        "\n",
        "#merge every data frame to sequences\n",
        "halflife = hl[[\"Ensembl Gene Id\", \"zscore\"]]\n",
        "seqs = pd.merge(pd.merge(UTR5, ORF, on ='geneID'), UTR3, on = 'geneID')\n",
        "sequences = pd.merge(halflife, seqs, right_on = 'geneID', left_on = 'Ensembl Gene Id')\n",
        "sequences = sequences.drop(columns=[\"geneID\"])\n",
        "sequences = sequences.rename(columns={\"Ensembl Gene Id\": \"geneID\"})\n",
        "sequences = pd.merge(sequences, chromosomes, left_on='geneID', right_on='GeneID')\n",
        "sequences = sequences.drop(columns=[\"GeneID\"])\n",
        "sequences = pd.merge(sequences, exons, left_on='geneID', right_on='GeneID')\n",
        "sequences = sequences.drop(columns=[\"GeneID\"])\n",
        "\n",
        "#transform seqs into strings:\n",
        "sequences[\"UTR5_seqs\"] = sequences[\"UTR5_seqs\"].apply(str)\n",
        "sequences[\"UTR3_seqs\"] = sequences[\"UTR3_seqs\"].apply(str)\n",
        "sequences[\"ORF_seqs\"] = sequences[\"ORF_seqs\"].apply(str)\n",
        "\n",
        "rubbish = [d, UTR3, ORF, UTR5, UTR5_seqs, UTR3_seqs, ORF_seqs, UTR3_identifiers, UTR5_identifiers, ORF_identifiers, hl, halflife]\n",
        "del rubbish\n",
        "\n",
        "sequences.head()"
      ],
      "metadata": {
        "id": "M7rLipk85dwm",
        "colab": {
          "base_uri": "https://localhost:8080/",
          "height": 226
        },
        "outputId": "db2863f6-f0c3-4412-ec71-4821cccda3cb"
      },
      "execution_count": null,
      "outputs": [
        {
          "output_type": "execute_result",
          "data": {
            "text/plain": [
              "            geneID    zscore  \\\n",
              "0  ENSG00000000003  1.807620   \n",
              "1  ENSG00000000457 -1.446182   \n",
              "2  ENSG00000000460  0.092022   \n",
              "3  ENSG00000000938 -0.196955   \n",
              "4  ENSG00000000971  1.611324   \n",
              "\n",
              "                                           UTR5_seqs  \\\n",
              "0  AGTTGTGGACGCTCGTAAGTTTTCGGCAGTTTCCGGGGAGACTCGG...   \n",
              "1  TGTCCCGTTTCCGGACCCGTCTCTATGGTGTAGGAGAAACCCGGCC...   \n",
              "2  GGCTTTGGCCCTGGAAAGCCTCGCGGACGTGTTCTGACCCAAGGTT...   \n",
              "3  GGCTTGGGGCTAGGGCGTGACTGTCTCCCTGCCACCATCACCGCCC...   \n",
              "4  ACAGCATTAACATTTAGTGGGAGTGCAGTGAGAATTGGGTTTAACT...   \n",
              "\n",
              "                                            ORF_seqs  \\\n",
              "0  ATGGCGTCCCCGTCTCGGAGACTGCAGACTAAACCAGTCATTACTT...   \n",
              "1  ATGGGATCAGAGAACAGTGCTTTAAAGAGCTATACACTGAGAGAAC...   \n",
              "2  ATGTTTTTACCTCATATGAACCACCTGACATTGGAACAGACTTTCT...   \n",
              "3  ATGGGCTGTGTGTTCTGCAAGAAATTGGAGCCGGTGGCCACGGCCA...   \n",
              "4  ATGAGACTTCTAGCAAAGATTATTTGCCTTATGTTATGGGCTATTT...   \n",
              "\n",
              "                                           UTR3_seqs Chromosome  UTR5_len  \\\n",
              "0  CCCAATGTATCTGTGGGCCTATTCCTCTCTACCTTTAAGGACATTT...          X       112   \n",
              "1  CAATAGATGTGAGTTAAACTTTAGGAAAAAGGATTCCCTTTTTTTA...          1       222   \n",
              "2  AACTTATCACTAGGCAGAACTGGGTTTGATGCTTTGTCAACTGAAA...          1       700   \n",
              "3  CCTGTCCGGGCATCAACCCTCTCTGGCGGTGGCCACCAGTCCTTGC...          1       289   \n",
              "4  AATCAATCATAAAGTGCACACCTTTATTCAGAACTTTAGTATTAAA...          1       240   \n",
              "\n",
              "                     Exon_Junctions_In_Full_Sequence  \n",
              "0                            199,388,463,562,697,781  \n",
              "1  387,573,687,744,847,959,1037,1177,1362,1534,16...  \n",
              "2  766,871,1012,1178,1263,1402,1483,1548,1697,182...  \n",
              "3       515,618,717,821,971,1127,1307,1384,1538,1670  \n",
              "4  298,484,590,667,859,1030,1204,1399,1576,1759,1...  "
            ],
            "text/html": [
              "<div>\n",
              "<style scoped>\n",
              "    .dataframe tbody tr th:only-of-type {\n",
              "        vertical-align: middle;\n",
              "    }\n",
              "\n",
              "    .dataframe tbody tr th {\n",
              "        vertical-align: top;\n",
              "    }\n",
              "\n",
              "    .dataframe thead th {\n",
              "        text-align: right;\n",
              "    }\n",
              "</style>\n",
              "<table border=\"1\" class=\"dataframe\">\n",
              "  <thead>\n",
              "    <tr style=\"text-align: right;\">\n",
              "      <th></th>\n",
              "      <th>geneID</th>\n",
              "      <th>zscore</th>\n",
              "      <th>UTR5_seqs</th>\n",
              "      <th>ORF_seqs</th>\n",
              "      <th>UTR3_seqs</th>\n",
              "      <th>Chromosome</th>\n",
              "      <th>UTR5_len</th>\n",
              "      <th>Exon_Junctions_In_Full_Sequence</th>\n",
              "    </tr>\n",
              "  </thead>\n",
              "  <tbody>\n",
              "    <tr>\n",
              "      <th>0</th>\n",
              "      <td>ENSG00000000003</td>\n",
              "      <td>1.807620</td>\n",
              "      <td>AGTTGTGGACGCTCGTAAGTTTTCGGCAGTTTCCGGGGAGACTCGG...</td>\n",
              "      <td>ATGGCGTCCCCGTCTCGGAGACTGCAGACTAAACCAGTCATTACTT...</td>\n",
              "      <td>CCCAATGTATCTGTGGGCCTATTCCTCTCTACCTTTAAGGACATTT...</td>\n",
              "      <td>X</td>\n",
              "      <td>112</td>\n",
              "      <td>199,388,463,562,697,781</td>\n",
              "    </tr>\n",
              "    <tr>\n",
              "      <th>1</th>\n",
              "      <td>ENSG00000000457</td>\n",
              "      <td>-1.446182</td>\n",
              "      <td>TGTCCCGTTTCCGGACCCGTCTCTATGGTGTAGGAGAAACCCGGCC...</td>\n",
              "      <td>ATGGGATCAGAGAACAGTGCTTTAAAGAGCTATACACTGAGAGAAC...</td>\n",
              "      <td>CAATAGATGTGAGTTAAACTTTAGGAAAAAGGATTCCCTTTTTTTA...</td>\n",
              "      <td>1</td>\n",
              "      <td>222</td>\n",
              "      <td>387,573,687,744,847,959,1037,1177,1362,1534,16...</td>\n",
              "    </tr>\n",
              "    <tr>\n",
              "      <th>2</th>\n",
              "      <td>ENSG00000000460</td>\n",
              "      <td>0.092022</td>\n",
              "      <td>GGCTTTGGCCCTGGAAAGCCTCGCGGACGTGTTCTGACCCAAGGTT...</td>\n",
              "      <td>ATGTTTTTACCTCATATGAACCACCTGACATTGGAACAGACTTTCT...</td>\n",
              "      <td>AACTTATCACTAGGCAGAACTGGGTTTGATGCTTTGTCAACTGAAA...</td>\n",
              "      <td>1</td>\n",
              "      <td>700</td>\n",
              "      <td>766,871,1012,1178,1263,1402,1483,1548,1697,182...</td>\n",
              "    </tr>\n",
              "    <tr>\n",
              "      <th>3</th>\n",
              "      <td>ENSG00000000938</td>\n",
              "      <td>-0.196955</td>\n",
              "      <td>GGCTTGGGGCTAGGGCGTGACTGTCTCCCTGCCACCATCACCGCCC...</td>\n",
              "      <td>ATGGGCTGTGTGTTCTGCAAGAAATTGGAGCCGGTGGCCACGGCCA...</td>\n",
              "      <td>CCTGTCCGGGCATCAACCCTCTCTGGCGGTGGCCACCAGTCCTTGC...</td>\n",
              "      <td>1</td>\n",
              "      <td>289</td>\n",
              "      <td>515,618,717,821,971,1127,1307,1384,1538,1670</td>\n",
              "    </tr>\n",
              "    <tr>\n",
              "      <th>4</th>\n",
              "      <td>ENSG00000000971</td>\n",
              "      <td>1.611324</td>\n",
              "      <td>ACAGCATTAACATTTAGTGGGAGTGCAGTGAGAATTGGGTTTAACT...</td>\n",
              "      <td>ATGAGACTTCTAGCAAAGATTATTTGCCTTATGTTATGGGCTATTT...</td>\n",
              "      <td>AATCAATCATAAAGTGCACACCTTTATTCAGAACTTTAGTATTAAA...</td>\n",
              "      <td>1</td>\n",
              "      <td>240</td>\n",
              "      <td>298,484,590,667,859,1030,1204,1399,1576,1759,1...</td>\n",
              "    </tr>\n",
              "  </tbody>\n",
              "</table>\n",
              "</div>"
            ]
          },
          "metadata": {},
          "execution_count": 8
        }
      ]
    },
    {
      "cell_type": "code",
      "source": [
        "# Insertion one-time into all sequences\n",
        "# modes: \"all\", \"utr5\", \"utr3\", choosing a utr will only insert the motif there \n",
        "def insert(sequences, motif, mode = \"all\"):\n",
        "  indices = []\n",
        "  seqs = sequences.copy()\n",
        "  which_utr = []\n",
        "  if (mode == \"all\"):\n",
        "    j = 1\n",
        "    for i in range(len(seqs)):\n",
        "      if ((i+1) % 1392 == 0):\n",
        "        print(f'Progress: {j*10}%')\n",
        "        j += 1\n",
        "      utr5_len = len(seqs[\"UTR5_seqs\"][i])\n",
        "      utr3_len = len(seqs[\"UTR3_seqs\"][i])\n",
        "      cds_len = len(seqs[\"ORF_seqs\"][i])\n",
        "      full_len = utr5_len + utr3_len + cds_len\n",
        "\n",
        "      last_insert = 10000-len(motif) #where 10000 is the max_len, randint is half-open interval excl high\n",
        "\n",
        "      ind = np.random.randint(min(utr5_len + utr3_len, max(utr5_len, last_insert-cds_len))) #skipping the cds here\n",
        "      if (ind < utr5_len):\n",
        "        seqs[\"UTR5_seqs\"][i] = sequences[\"UTR5_seqs\"][i][:ind] + motif + sequences[\"UTR5_seqs\"][i][ind:]\n",
        "        indices.append(ind+1)\n",
        "        which_utr.append(5)\n",
        "      else:\n",
        "        seqs[\"UTR3_seqs\"][i] = sequences[\"UTR3_seqs\"][i][:(ind+cds_len)] + motif + sequences[\"UTR3_seqs\"][i][(ind+cds_len):]\n",
        "        indices.append(ind+cds_len+1)\n",
        "        which_utr.append(3)\n",
        "\n",
        "  elif (mode == \"utr5\"):\n",
        "    j = 1\n",
        "    for i in range(len(seqs)):\n",
        "      if ((i+1) % 1392 == 0):\n",
        "        print(f'Progress: {j*10}%')\n",
        "        j += 1\n",
        "      utr5_len = len(seqs[\"UTR5_seqs\"][i])\n",
        "      assert utr5_len <= 10000\n",
        "\n",
        "      ind = np.random.randint(utr5_len) #skipping the cds here\n",
        "      seqs[\"UTR5_seqs\"][i] = sequences[\"UTR5_seqs\"][i][:ind] + motif + sequences[\"UTR5_seqs\"][i][ind:]\n",
        "      indices.append(ind+1)\n",
        "      which_utr.append(5)\n",
        "\n",
        "  elif (mode == \"utr3\"):\n",
        "    j = 1\n",
        "    for i in range(len(seqs)):\n",
        "      if ((i+1) % 1392 == 0):\n",
        "        print(f'Progress: {j*10}%')\n",
        "        j += 1\n",
        "      utr5_len = len(seqs[\"UTR5_seqs\"][i])\n",
        "      utr3_len = len(seqs[\"UTR3_seqs\"][i])\n",
        "      cds_len = len(seqs[\"ORF_seqs\"][i])\n",
        "      full_len = (utr5_len + utr3_len + cds_len)\n",
        "      if (cds_len + utr5_len + motif <= 10000):\n",
        "        ind = np.random.randint(utr3_len-max(0, full_len(10000))) #skipping the cds here\n",
        "        seqs[\"UTR3_seqs\"][i] = sequences[\"UTR3_seqs\"][i][:(ind+cds_len+utr5_len)] + motif + sequences[\"UTR3_seqs\"][i][(ind+cds_len+utr5_len):]\n",
        "        indices.append = ind\n",
        "        which_utr.append(3)\n",
        "      else:\n",
        "        indices.append(10001)\n",
        "        which_utr.append(0)\n",
        "  else: \n",
        "    raise Exception(\"Sorry, no numbers below zero\")\n",
        "  print(f'Progress: 100%')\n",
        "  return seqs, np.array(indices)"
      ],
      "metadata": {
        "id": "f7EwrrN2NUrU"
      },
      "execution_count": null,
      "outputs": []
    },
    {
      "cell_type": "code",
      "source": [
        "# Selecting the sequences:"
      ],
      "metadata": {
        "id": "Sbpv440-HyqT"
      },
      "execution_count": null,
      "outputs": []
    },
    {
      "cell_type": "code",
      "source": [
        "chrom_test = ['1', '8', '9'] #we'll draw all samples from the test set"
      ],
      "metadata": {
        "id": "Ih4OOJxISyJv"
      },
      "execution_count": null,
      "outputs": []
    },
    {
      "cell_type": "code",
      "source": [
        "idx_test = np.where(sequences.Chromosome.isin(chrom_test))[0]"
      ],
      "metadata": {
        "id": "FQcQCI4BTFSH"
      },
      "execution_count": null,
      "outputs": []
    },
    {
      "cell_type": "code",
      "source": [
        "len(idx_test)"
      ],
      "metadata": {
        "colab": {
          "base_uri": "https://localhost:8080/"
        },
        "id": "8M44LrCcKRzx",
        "outputId": "c053c5e2-706a-43e1-9632-7b78dd25954d"
      },
      "execution_count": null,
      "outputs": [
        {
          "output_type": "execute_result",
          "data": {
            "text/plain": [
              "2334"
            ]
          },
          "metadata": {},
          "execution_count": 13
        }
      ]
    },
    {
      "cell_type": "code",
      "source": [
        "# All samples will be drawn from the test set:\n",
        "seq_test = sequences.loc[(sequences['Chromosome'] == '1') | (sequences['Chromosome'] == '8') | (sequences['Chromosome'] == '9')]\n",
        "print(len(seq_test))\n",
        "# Sanity check:\n",
        "chrom_test = ['1', '8', '9'] #we'll draw all samples from the test set\n",
        "print(len(np.where(sequences.Chromosome.isin(chrom_test))[0]))"
      ],
      "metadata": {
        "colab": {
          "base_uri": "https://localhost:8080/"
        },
        "id": "UBp7YdJmKeHG",
        "outputId": "e43e4b57-2c73-44d2-ee80-15a7a4b95cdd"
      },
      "execution_count": null,
      "outputs": [
        {
          "output_type": "stream",
          "name": "stdout",
          "text": [
            "2334\n",
            "2334\n"
          ]
        }
      ]
    },
    {
      "cell_type": "code",
      "source": [
        "# We want sequences of \"average\" length:\n",
        "len_seqs = pd.DataFrame(np.stack([[len(utr3_seq) for utr3_seq in seq_test[\"UTR3_seqs\"]], \n",
        "                                  [len(utr5_seq) for utr5_seq in seq_test[\"UTR5_seqs\"]]], axis = 1), \n",
        "                        columns=['len_utr3', 'len_utr5'])"
      ],
      "metadata": {
        "id": "swugiS29IJfW"
      },
      "execution_count": null,
      "outputs": []
    },
    {
      "cell_type": "code",
      "source": [
        "len_seqs['len_utr3']"
      ],
      "metadata": {
        "colab": {
          "base_uri": "https://localhost:8080/"
        },
        "id": "mtmoPX1CIRq7",
        "outputId": "c24aff29-f3b9-488d-8c8c-35c11765bfcf"
      },
      "execution_count": null,
      "outputs": [
        {
          "output_type": "execute_result",
          "data": {
            "text/plain": [
              "0        639\n",
              "1       1093\n",
              "2        850\n",
              "3        191\n",
              "4       1544\n",
              "        ... \n",
              "2329     693\n",
              "2330     428\n",
              "2331     665\n",
              "2332    1652\n",
              "2333    1855\n",
              "Name: len_utr3, Length: 2334, dtype: int32"
            ]
          },
          "metadata": {},
          "execution_count": 16
        }
      ]
    },
    {
      "cell_type": "code",
      "source": [
        "print(np.mean(len_seqs['len_utr5']))\n",
        "print(np.median(len_seqs['len_utr5']))\n",
        "print(np.mean(len_seqs['len_utr3']))\n",
        "print(np.median(len_seqs['len_utr3']))"
      ],
      "metadata": {
        "colab": {
          "base_uri": "https://localhost:8080/"
        },
        "id": "1xRb2hMbIWkH",
        "outputId": "cdf5010e-63bb-4e05-ef40-5f6459240f96"
      },
      "execution_count": null,
      "outputs": [
        {
          "output_type": "stream",
          "name": "stdout",
          "text": [
            "247.02784918594688\n",
            "174.0\n",
            "1722.3500428449015\n",
            "1073.5\n"
          ]
        }
      ]
    },
    {
      "cell_type": "code",
      "source": [
        "ind_avglen5 = np.logical_and(len_seqs['len_utr5'] > 170, len_seqs['len_utr5'] < 240)\n",
        "print(np.sum(ind_avglen5))\n",
        "ind_avglen3 = np.logical_and(len_seqs['len_utr3'] > 1074, len_seqs['len_utr3'] < 1722)\n",
        "print(np.sum(ind_avglen3))\n",
        "\n",
        "potential_seqs5 = seq_test.loc[np.array(ind_avglen5)]\n",
        "potential_seqs3 = seq_test.loc[np.array(ind_avglen3)]\n",
        "print(len(potential_seqs5))\n",
        "print(len(potential_seqs3))"
      ],
      "metadata": {
        "colab": {
          "base_uri": "https://localhost:8080/"
        },
        "id": "49ick9vYJVl9",
        "outputId": "f6e23f9f-01f0-420e-85ee-5fb5aba68893"
      },
      "execution_count": null,
      "outputs": [
        {
          "output_type": "stream",
          "name": "stdout",
          "text": [
            "335\n",
            "373\n",
            "335\n",
            "373\n"
          ]
        }
      ]
    },
    {
      "cell_type": "code",
      "source": [
        "#will we run into length problems with the 3'UTRs?\n",
        "lengths_utr3 = []\n",
        "for i in range(len(potential_seqs3)):\n",
        "  lengths_utr3.append(len(potential_seqs3.iloc[i][\"UTR3_seqs\"]) + len(potential_seqs3.iloc[i][\"UTR5_seqs\"]) + len(potential_seqs3.iloc[i][\"ORF_seqs\"]))\n",
        "print(max(lengths_utr3))\n",
        "# remove all longer than 9900\n",
        "\n",
        "keep = np.array(lengths_utr3) <= 9900\n",
        "pot_seqs3 = potential_seqs3.loc[np.array(keep)]\n",
        "\n",
        "# Sanity check\n",
        "len_utr_clean = []\n",
        "for i in range(len(pot_seqs3)):\n",
        "  len_utr_clean.append(len(pot_seqs3.iloc[i][\"UTR3_seqs\"]) + len(pot_seqs3.iloc[i][\"UTR5_seqs\"]) + len(pot_seqs3.iloc[i][\"ORF_seqs\"]))\n",
        "print(max(len_utr_clean))"
      ],
      "metadata": {
        "colab": {
          "base_uri": "https://localhost:8080/"
        },
        "id": "glry0P57VN7Q",
        "outputId": "06638cba-88b5-4b53-ee76-cbc5d2d4227e"
      },
      "execution_count": null,
      "outputs": [
        {
          "output_type": "stream",
          "name": "stdout",
          "text": [
            "24316\n",
            "9368\n"
          ]
        }
      ]
    },
    {
      "cell_type": "code",
      "source": [
        "which_5 = np.random.choice(len(potential_seqs5), size=20, replace=False)\n",
        "which_3 = np.random.choice(len(pot_seqs3), size=20, replace=False)"
      ],
      "metadata": {
        "id": "gKsjRUvOLvEM"
      },
      "execution_count": null,
      "outputs": []
    },
    {
      "cell_type": "code",
      "source": [
        "seqs_utr5 = potential_seqs5.iloc[which_5]\n",
        "seqs_utr3 = pot_seqs3.iloc[which_3]"
      ],
      "metadata": {
        "id": "NMzY4-NDOcPm"
      },
      "execution_count": null,
      "outputs": []
    },
    {
      "cell_type": "code",
      "source": [
        "seqs_utr5.sort_index(inplace=True)\n",
        "seqs_utr3.sort_index(inplace=True)\n",
        "chosen_utr5_ind = seqs_utr5.index.values\n",
        "chosen_utr3_ind = seqs_utr3.index.values"
      ],
      "metadata": {
        "colab": {
          "base_uri": "https://localhost:8080/"
        },
        "id": "bldzhJopQ3nx",
        "outputId": "b705dcc0-5161-4d47-aafd-3cfd86ce78bc"
      },
      "execution_count": null,
      "outputs": [
        {
          "output_type": "stream",
          "name": "stderr",
          "text": [
            "C:\\Users\\marku\\AppData\\Local\\Temp\\ipykernel_25980\\1508292597.py:1: SettingWithCopyWarning: \n",
            "A value is trying to be set on a copy of a slice from a DataFrame\n",
            "\n",
            "See the caveats in the documentation: https://pandas.pydata.org/pandas-docs/stable/user_guide/indexing.html#returning-a-view-versus-a-copy\n",
            "  seqs_utr5.sort_index(inplace=True)\n",
            "C:\\Users\\marku\\AppData\\Local\\Temp\\ipykernel_25980\\1508292597.py:2: SettingWithCopyWarning: \n",
            "A value is trying to be set on a copy of a slice from a DataFrame\n",
            "\n",
            "See the caveats in the documentation: https://pandas.pydata.org/pandas-docs/stable/user_guide/indexing.html#returning-a-view-versus-a-copy\n",
            "  seqs_utr3.sort_index(inplace=True)\n"
          ]
        }
      ]
    },
    {
      "cell_type": "code",
      "source": [
        "chosen_utr3_ind"
      ],
      "metadata": {
        "colab": {
          "base_uri": "https://localhost:8080/"
        },
        "id": "xd93yAnj12gT",
        "outputId": "11645ad5-602e-4a8a-f3e7-77c74e608a17"
      },
      "execution_count": null,
      "outputs": [
        {
          "output_type": "execute_result",
          "data": {
            "text/plain": [
              "array([    8,   805,  3875,  3995,  3996,  5583,  6595,  6686,  8230,\n",
              "        8376,  8556,  9223,  9497, 10632, 10754, 11112, 11704, 11936,\n",
              "       12756, 13024], dtype=int64)"
            ]
          },
          "metadata": {},
          "execution_count": 23
        }
      ]
    },
    {
      "cell_type": "code",
      "source": [
        "seqs_utr5[\"UTR5_seqs\"][chosen_utr5_ind[7]]"
      ],
      "metadata": {
        "colab": {
          "base_uri": "https://localhost:8080/"
        },
        "id": "qzl-MkQie01f",
        "outputId": "fe229a43-b097-49df-e5d4-eefd3ec0f1a8"
      },
      "execution_count": null,
      "outputs": [
        {
          "output_type": "execute_result",
          "data": {
            "text/plain": [
              "'GCGTGGGGCACGGAGGGGCTCGCGCTCCCAGAAGCCGGCAGGCCTTCCCGCGGGCGGGCCCGCAGCGCGCTCCGCCCCGGAAACACGCCCATGGCCGCCTTGGCGCGCTTTCAAACGCTCAGGTTTCCTACCTTCCGGCTGCTTGGGAACTTCTTTCTTGCCCGCCAAGCCCGCAGCCACCCGGGCGCGGCGGGACTCCTAGACCCGGCGCTGCG'"
            ]
          },
          "metadata": {},
          "execution_count": 24
        }
      ]
    },
    {
      "cell_type": "code",
      "source": [
        "seqs_utr5.iloc[2][\"UTR5_seqs\"]"
      ],
      "metadata": {
        "colab": {
          "base_uri": "https://localhost:8080/"
        },
        "id": "BS8gDZZDkGjG",
        "outputId": "b36518f7-8e01-4b80-ce08-8f53d7d0bea6"
      },
      "execution_count": null,
      "outputs": [
        {
          "output_type": "execute_result",
          "data": {
            "text/plain": [
              "'GGATACTTCTACATAGACATAATCAAGTTTTGACTATTTGGAAACCAAGCATCATTAAAATTCTCTCAAACTCCTAATTGCGAAGAATCGATAACATTTCAAGAAGTGATAACATTTCTCTGAACAAGAAAAGAAGTGATTGACCACGTTTTAAAAGTACTCTGGCACTGGTGCTGTGTTTTCTTCCCCTCCCTAAATTTGAAGAACT'"
            ]
          },
          "metadata": {},
          "execution_count": 25
        }
      ]
    },
    {
      "cell_type": "code",
      "source": [
        "# Create clean sequences\n",
        "size_insert = 150\n",
        "\n",
        "clean_seqs_utr5 = pd.DataFrame(np.repeat(seqs_utr5.values, size_insert, axis=0))\n",
        "clean_seqs_utr5.columns = seqs_utr5.columns\n",
        "\n",
        "clean_seqs_utr3 = pd.DataFrame(np.repeat(seqs_utr3.values, size_insert, axis=0))\n",
        "clean_seqs_utr3.columns = seqs_utr3.columns"
      ],
      "metadata": {
        "id": "BoszP5RWlPLz"
      },
      "execution_count": null,
      "outputs": []
    },
    {
      "cell_type": "code",
      "source": [
        "clean_seqs_utr5"
      ],
      "metadata": {
        "colab": {
          "base_uri": "https://localhost:8080/",
          "height": 444
        },
        "id": "UVD2dBMYpAZK",
        "outputId": "f3df2351-b9ea-4d86-c06c-79ffca255c73"
      },
      "execution_count": null,
      "outputs": [
        {
          "output_type": "execute_result",
          "data": {
            "text/plain": [
              "               geneID    zscore  \\\n",
              "0     ENSG00000019549 -2.730303   \n",
              "1     ENSG00000019549 -2.730303   \n",
              "2     ENSG00000019549 -2.730303   \n",
              "3     ENSG00000019549 -2.730303   \n",
              "4     ENSG00000019549 -2.730303   \n",
              "...               ...       ...   \n",
              "2995  ENSG00000186063  1.505459   \n",
              "2996  ENSG00000186063  1.505459   \n",
              "2997  ENSG00000186063  1.505459   \n",
              "2998  ENSG00000186063  1.505459   \n",
              "2999  ENSG00000186063  1.505459   \n",
              "\n",
              "                                              UTR5_seqs  \\\n",
              "0     AAAACGGGCTCAGTTCGTAAAGGAGCCGGGTGACTTCAGAGGCGCC...   \n",
              "1     AAAACGGGCTCAGTTCGTAAAGGAGCCGGGTGACTTCAGAGGCGCC...   \n",
              "2     AAAACGGGCTCAGTTCGTAAAGGAGCCGGGTGACTTCAGAGGCGCC...   \n",
              "3     AAAACGGGCTCAGTTCGTAAAGGAGCCGGGTGACTTCAGAGGCGCC...   \n",
              "4     AAAACGGGCTCAGTTCGTAAAGGAGCCGGGTGACTTCAGAGGCGCC...   \n",
              "...                                                 ...   \n",
              "2995  CGGGGTCTCGGCGGGGCGGTCGCTTTGGAGCCGCAAAGTTTGGCTG...   \n",
              "2996  CGGGGTCTCGGCGGGGCGGTCGCTTTGGAGCCGCAAAGTTTGGCTG...   \n",
              "2997  CGGGGTCTCGGCGGGGCGGTCGCTTTGGAGCCGCAAAGTTTGGCTG...   \n",
              "2998  CGGGGTCTCGGCGGGGCGGTCGCTTTGGAGCCGCAAAGTTTGGCTG...   \n",
              "2999  CGGGGTCTCGGCGGGGCGGTCGCTTTGGAGCCGCAAAGTTTGGCTG...   \n",
              "\n",
              "                                               ORF_seqs  \\\n",
              "0     ATGCCGCGCTCCTTCCTGGTCAAGAAGCATTTCAACGCCTCCAAAA...   \n",
              "1     ATGCCGCGCTCCTTCCTGGTCAAGAAGCATTTCAACGCCTCCAAAA...   \n",
              "2     ATGCCGCGCTCCTTCCTGGTCAAGAAGCATTTCAACGCCTCCAAAA...   \n",
              "3     ATGCCGCGCTCCTTCCTGGTCAAGAAGCATTTCAACGCCTCCAAAA...   \n",
              "4     ATGCCGCGCTCCTTCCTGGTCAAGAAGCATTTCAACGCCTCCAAAA...   \n",
              "...                                                 ...   \n",
              "2995  ATGTCGGAGGTGACCCGGAGTCTGCTGCAGCGCTGGGGCGCCAGTT...   \n",
              "2996  ATGTCGGAGGTGACCCGGAGTCTGCTGCAGCGCTGGGGCGCCAGTT...   \n",
              "2997  ATGTCGGAGGTGACCCGGAGTCTGCTGCAGCGCTGGGGCGCCAGTT...   \n",
              "2998  ATGTCGGAGGTGACCCGGAGTCTGCTGCAGCGCTGGGGCGCCAGTT...   \n",
              "2999  ATGTCGGAGGTGACCCGGAGTCTGCTGCAGCGCTGGGGCGCCAGTT...   \n",
              "\n",
              "                                              UTR3_seqs Chromosome UTR5_len  \\\n",
              "0     GTGACGCAATCAATGTTTACTCGAACAGAATGCATTTCTTCACTCC...          8      175   \n",
              "1     GTGACGCAATCAATGTTTACTCGAACAGAATGCATTTCTTCACTCC...          8      175   \n",
              "2     GTGACGCAATCAATGTTTACTCGAACAGAATGCATTTCTTCACTCC...          8      175   \n",
              "3     GTGACGCAATCAATGTTTACTCGAACAGAATGCATTTCTTCACTCC...          8      175   \n",
              "4     GTGACGCAATCAATGTTTACTCGAACAGAATGCATTTCTTCACTCC...          8      175   \n",
              "...                                                 ...        ...      ...   \n",
              "2995  TCCTGACATGATGAACCTGGAACTTCTGTGAATTTTACCACTCAGT...          1      207   \n",
              "2996  TCCTGACATGATGAACCTGGAACTTCTGTGAATTTTACCACTCAGT...          1      207   \n",
              "2997  TCCTGACATGATGAACCTGGAACTTCTGTGAATTTTACCACTCAGT...          1      207   \n",
              "2998  TCCTGACATGATGAACCTGGAACTTCTGTGAATTTTACCACTCAGT...          1      207   \n",
              "2999  TCCTGACATGATGAACCTGGAACTTCTGTGAATTTTACCACTCAGT...          1      207   \n",
              "\n",
              "           Exon_Junctions_In_Full_Sequence  \n",
              "0                                  254,800  \n",
              "1                                  254,800  \n",
              "2                                  254,800  \n",
              "3                                  254,800  \n",
              "4                                  254,800  \n",
              "...                                    ...  \n",
              "2995  317,387,441,496,560,667,790,913,1031  \n",
              "2996  317,387,441,496,560,667,790,913,1031  \n",
              "2997  317,387,441,496,560,667,790,913,1031  \n",
              "2998  317,387,441,496,560,667,790,913,1031  \n",
              "2999  317,387,441,496,560,667,790,913,1031  \n",
              "\n",
              "[3000 rows x 8 columns]"
            ],
            "text/html": [
              "<div>\n",
              "<style scoped>\n",
              "    .dataframe tbody tr th:only-of-type {\n",
              "        vertical-align: middle;\n",
              "    }\n",
              "\n",
              "    .dataframe tbody tr th {\n",
              "        vertical-align: top;\n",
              "    }\n",
              "\n",
              "    .dataframe thead th {\n",
              "        text-align: right;\n",
              "    }\n",
              "</style>\n",
              "<table border=\"1\" class=\"dataframe\">\n",
              "  <thead>\n",
              "    <tr style=\"text-align: right;\">\n",
              "      <th></th>\n",
              "      <th>geneID</th>\n",
              "      <th>zscore</th>\n",
              "      <th>UTR5_seqs</th>\n",
              "      <th>ORF_seqs</th>\n",
              "      <th>UTR3_seqs</th>\n",
              "      <th>Chromosome</th>\n",
              "      <th>UTR5_len</th>\n",
              "      <th>Exon_Junctions_In_Full_Sequence</th>\n",
              "    </tr>\n",
              "  </thead>\n",
              "  <tbody>\n",
              "    <tr>\n",
              "      <th>0</th>\n",
              "      <td>ENSG00000019549</td>\n",
              "      <td>-2.730303</td>\n",
              "      <td>AAAACGGGCTCAGTTCGTAAAGGAGCCGGGTGACTTCAGAGGCGCC...</td>\n",
              "      <td>ATGCCGCGCTCCTTCCTGGTCAAGAAGCATTTCAACGCCTCCAAAA...</td>\n",
              "      <td>GTGACGCAATCAATGTTTACTCGAACAGAATGCATTTCTTCACTCC...</td>\n",
              "      <td>8</td>\n",
              "      <td>175</td>\n",
              "      <td>254,800</td>\n",
              "    </tr>\n",
              "    <tr>\n",
              "      <th>1</th>\n",
              "      <td>ENSG00000019549</td>\n",
              "      <td>-2.730303</td>\n",
              "      <td>AAAACGGGCTCAGTTCGTAAAGGAGCCGGGTGACTTCAGAGGCGCC...</td>\n",
              "      <td>ATGCCGCGCTCCTTCCTGGTCAAGAAGCATTTCAACGCCTCCAAAA...</td>\n",
              "      <td>GTGACGCAATCAATGTTTACTCGAACAGAATGCATTTCTTCACTCC...</td>\n",
              "      <td>8</td>\n",
              "      <td>175</td>\n",
              "      <td>254,800</td>\n",
              "    </tr>\n",
              "    <tr>\n",
              "      <th>2</th>\n",
              "      <td>ENSG00000019549</td>\n",
              "      <td>-2.730303</td>\n",
              "      <td>AAAACGGGCTCAGTTCGTAAAGGAGCCGGGTGACTTCAGAGGCGCC...</td>\n",
              "      <td>ATGCCGCGCTCCTTCCTGGTCAAGAAGCATTTCAACGCCTCCAAAA...</td>\n",
              "      <td>GTGACGCAATCAATGTTTACTCGAACAGAATGCATTTCTTCACTCC...</td>\n",
              "      <td>8</td>\n",
              "      <td>175</td>\n",
              "      <td>254,800</td>\n",
              "    </tr>\n",
              "    <tr>\n",
              "      <th>3</th>\n",
              "      <td>ENSG00000019549</td>\n",
              "      <td>-2.730303</td>\n",
              "      <td>AAAACGGGCTCAGTTCGTAAAGGAGCCGGGTGACTTCAGAGGCGCC...</td>\n",
              "      <td>ATGCCGCGCTCCTTCCTGGTCAAGAAGCATTTCAACGCCTCCAAAA...</td>\n",
              "      <td>GTGACGCAATCAATGTTTACTCGAACAGAATGCATTTCTTCACTCC...</td>\n",
              "      <td>8</td>\n",
              "      <td>175</td>\n",
              "      <td>254,800</td>\n",
              "    </tr>\n",
              "    <tr>\n",
              "      <th>4</th>\n",
              "      <td>ENSG00000019549</td>\n",
              "      <td>-2.730303</td>\n",
              "      <td>AAAACGGGCTCAGTTCGTAAAGGAGCCGGGTGACTTCAGAGGCGCC...</td>\n",
              "      <td>ATGCCGCGCTCCTTCCTGGTCAAGAAGCATTTCAACGCCTCCAAAA...</td>\n",
              "      <td>GTGACGCAATCAATGTTTACTCGAACAGAATGCATTTCTTCACTCC...</td>\n",
              "      <td>8</td>\n",
              "      <td>175</td>\n",
              "      <td>254,800</td>\n",
              "    </tr>\n",
              "    <tr>\n",
              "      <th>...</th>\n",
              "      <td>...</td>\n",
              "      <td>...</td>\n",
              "      <td>...</td>\n",
              "      <td>...</td>\n",
              "      <td>...</td>\n",
              "      <td>...</td>\n",
              "      <td>...</td>\n",
              "      <td>...</td>\n",
              "    </tr>\n",
              "    <tr>\n",
              "      <th>2995</th>\n",
              "      <td>ENSG00000186063</td>\n",
              "      <td>1.505459</td>\n",
              "      <td>CGGGGTCTCGGCGGGGCGGTCGCTTTGGAGCCGCAAAGTTTGGCTG...</td>\n",
              "      <td>ATGTCGGAGGTGACCCGGAGTCTGCTGCAGCGCTGGGGCGCCAGTT...</td>\n",
              "      <td>TCCTGACATGATGAACCTGGAACTTCTGTGAATTTTACCACTCAGT...</td>\n",
              "      <td>1</td>\n",
              "      <td>207</td>\n",
              "      <td>317,387,441,496,560,667,790,913,1031</td>\n",
              "    </tr>\n",
              "    <tr>\n",
              "      <th>2996</th>\n",
              "      <td>ENSG00000186063</td>\n",
              "      <td>1.505459</td>\n",
              "      <td>CGGGGTCTCGGCGGGGCGGTCGCTTTGGAGCCGCAAAGTTTGGCTG...</td>\n",
              "      <td>ATGTCGGAGGTGACCCGGAGTCTGCTGCAGCGCTGGGGCGCCAGTT...</td>\n",
              "      <td>TCCTGACATGATGAACCTGGAACTTCTGTGAATTTTACCACTCAGT...</td>\n",
              "      <td>1</td>\n",
              "      <td>207</td>\n",
              "      <td>317,387,441,496,560,667,790,913,1031</td>\n",
              "    </tr>\n",
              "    <tr>\n",
              "      <th>2997</th>\n",
              "      <td>ENSG00000186063</td>\n",
              "      <td>1.505459</td>\n",
              "      <td>CGGGGTCTCGGCGGGGCGGTCGCTTTGGAGCCGCAAAGTTTGGCTG...</td>\n",
              "      <td>ATGTCGGAGGTGACCCGGAGTCTGCTGCAGCGCTGGGGCGCCAGTT...</td>\n",
              "      <td>TCCTGACATGATGAACCTGGAACTTCTGTGAATTTTACCACTCAGT...</td>\n",
              "      <td>1</td>\n",
              "      <td>207</td>\n",
              "      <td>317,387,441,496,560,667,790,913,1031</td>\n",
              "    </tr>\n",
              "    <tr>\n",
              "      <th>2998</th>\n",
              "      <td>ENSG00000186063</td>\n",
              "      <td>1.505459</td>\n",
              "      <td>CGGGGTCTCGGCGGGGCGGTCGCTTTGGAGCCGCAAAGTTTGGCTG...</td>\n",
              "      <td>ATGTCGGAGGTGACCCGGAGTCTGCTGCAGCGCTGGGGCGCCAGTT...</td>\n",
              "      <td>TCCTGACATGATGAACCTGGAACTTCTGTGAATTTTACCACTCAGT...</td>\n",
              "      <td>1</td>\n",
              "      <td>207</td>\n",
              "      <td>317,387,441,496,560,667,790,913,1031</td>\n",
              "    </tr>\n",
              "    <tr>\n",
              "      <th>2999</th>\n",
              "      <td>ENSG00000186063</td>\n",
              "      <td>1.505459</td>\n",
              "      <td>CGGGGTCTCGGCGGGGCGGTCGCTTTGGAGCCGCAAAGTTTGGCTG...</td>\n",
              "      <td>ATGTCGGAGGTGACCCGGAGTCTGCTGCAGCGCTGGGGCGCCAGTT...</td>\n",
              "      <td>TCCTGACATGATGAACCTGGAACTTCTGTGAATTTTACCACTCAGT...</td>\n",
              "      <td>1</td>\n",
              "      <td>207</td>\n",
              "      <td>317,387,441,496,560,667,790,913,1031</td>\n",
              "    </tr>\n",
              "  </tbody>\n",
              "</table>\n",
              "<p>3000 rows × 8 columns</p>\n",
              "</div>"
            ]
          },
          "metadata": {},
          "execution_count": 27
        }
      ]
    },
    {
      "cell_type": "code",
      "source": [
        "def insert_withsize(sequence, current_indexes, motif, mode = \"utr3\", size = 250):\n",
        "  indices = []\n",
        "  seqs = clean_seqs_utr5.copy()\n",
        "  \n",
        "  if (mode == \"utr5\"):\n",
        "    for i in range(len(sequence)):\n",
        "      utr5_len = len(sequence[\"UTR5_seqs\"][current_indexes[i]])\n",
        "      assert utr5_len <= 10000\n",
        "      ind = np.random.choice(utr5_len, size=size, replace=False)\n",
        "      indices.extend(ind)\n",
        "      seq = []\n",
        "      seq_for_df = []\n",
        "      j = 0\n",
        "      for index in ind:\n",
        "        seqs[\"UTR5_seqs\"][i*len(sequence)+j] = sequence[\"UTR5_seqs\"][current_indexes[i]][:index] + motif + sequence[\"UTR5_seqs\"][current_indexes[i]][index:]\n",
        "        j += 1\n",
        "  elif (mode == \"utr3\"):\n",
        "    for i in range(len(sequence)):\n",
        "      utr3_len = len(sequence[\"UTR3_seqs\"][current_indexes[i]])\n",
        "\n",
        "      ind = np.random.choice(utr3_len, size=size, replace=False)\n",
        "      seq = []\n",
        "      seq_for_df = []\n",
        "      j = 0\n",
        "      for index in ind:\n",
        "        seqs[\"UTR3_seqs\"][i*len(sequence)+j] = sequence[\"UTR3_seqs\"][current_indexes[i]][:index] + motif + sequence[\"UTR3_seqs\"][current_indexes[i]][index:]\n",
        "        j += 1\n",
        "        indices.append(index)\n",
        "  else: \n",
        "    raise Exception(\"Sorry, wrong mode\")\n",
        "  return seqs, indices"
      ],
      "metadata": {
        "id": "EVb1NL23Out7"
      },
      "execution_count": null,
      "outputs": []
    },
    {
      "cell_type": "code",
      "source": [
        "motif = 'TAACGTTAT' #set motif, here S = CG, U = T\n",
        "\n",
        "seqs_utf5_motif, insertion_indices_utr5 = insert_withsize(seqs_utr5, chosen_utr5_ind, motif = motif, mode = \"utr5\", size = 150)\n",
        "seqs_utf3_motif, insertion_indices_utr3 = insert_withsize(seqs_utr3, chosen_utr3_ind, motif = motif, mode = \"utr3\", size = 150)"
      ],
      "metadata": {
        "id": "xGhQQ56UiAad"
      },
      "execution_count": null,
      "outputs": []
    },
    {
      "cell_type": "code",
      "source": [
        "seqs_utf5_motif"
      ],
      "metadata": {
        "colab": {
          "base_uri": "https://localhost:8080/",
          "height": 444
        },
        "id": "cY1tj7fXqZj5",
        "outputId": "47cbadef-f8d5-4269-870b-8482354c9131"
      },
      "execution_count": null,
      "outputs": [
        {
          "output_type": "execute_result",
          "data": {
            "text/plain": [
              "               geneID    zscore  \\\n",
              "0     ENSG00000019549 -2.730303   \n",
              "1     ENSG00000019549 -2.730303   \n",
              "2     ENSG00000019549 -2.730303   \n",
              "3     ENSG00000019549 -2.730303   \n",
              "4     ENSG00000019549 -2.730303   \n",
              "...               ...       ...   \n",
              "2995  ENSG00000186063  1.505459   \n",
              "2996  ENSG00000186063  1.505459   \n",
              "2997  ENSG00000186063  1.505459   \n",
              "2998  ENSG00000186063  1.505459   \n",
              "2999  ENSG00000186063  1.505459   \n",
              "\n",
              "                                              UTR5_seqs  \\\n",
              "0     AAAACGGGCTCAGTTCGTAAAGGAGCCGGGTGACTTCAGAGGCGCC...   \n",
              "1     AAAACGGGCTCAGTTCGTAAAGGAGCCGGGTGACTTCAGAGGCGCC...   \n",
              "2     AAAACGGGCTCAGTTCGTAAAGTAACGTTATGAGCCGGGTGACTTC...   \n",
              "3     AAAACGGGCTCAGTTCGTAAAGGAGCCGGGTGACTTCAGAGGCGCC...   \n",
              "4     AAAACGGGCTCAGTTCGTAAAGGAGCCGGGTGACTTCTAACGTTAT...   \n",
              "...                                                 ...   \n",
              "2995  CGGGGTCTCGGCGGGGCGGTCGCTTTGGAGCCGCAAAGTTTGGCTG...   \n",
              "2996  CGGGGTCTCGGCGGGGCGGTCGCTTTGGAGCCGCAAAGTTTGGCTG...   \n",
              "2997  CGGGGTCTCGGCGGGGCGGTCGCTTTGGAGCCGCAAAGTTTGGCTG...   \n",
              "2998  CGGGGTCTCGGCGGGGCGGTCGCTTTGGAGCCGCAAAGTTTGGCTG...   \n",
              "2999  CGGGGTCTCGGCGGGGCGGTCGCTTTGGAGCCGCAAAGTTTGGCTG...   \n",
              "\n",
              "                                               ORF_seqs  \\\n",
              "0     ATGCCGCGCTCCTTCCTGGTCAAGAAGCATTTCAACGCCTCCAAAA...   \n",
              "1     ATGCCGCGCTCCTTCCTGGTCAAGAAGCATTTCAACGCCTCCAAAA...   \n",
              "2     ATGCCGCGCTCCTTCCTGGTCAAGAAGCATTTCAACGCCTCCAAAA...   \n",
              "3     ATGCCGCGCTCCTTCCTGGTCAAGAAGCATTTCAACGCCTCCAAAA...   \n",
              "4     ATGCCGCGCTCCTTCCTGGTCAAGAAGCATTTCAACGCCTCCAAAA...   \n",
              "...                                                 ...   \n",
              "2995  ATGTCGGAGGTGACCCGGAGTCTGCTGCAGCGCTGGGGCGCCAGTT...   \n",
              "2996  ATGTCGGAGGTGACCCGGAGTCTGCTGCAGCGCTGGGGCGCCAGTT...   \n",
              "2997  ATGTCGGAGGTGACCCGGAGTCTGCTGCAGCGCTGGGGCGCCAGTT...   \n",
              "2998  ATGTCGGAGGTGACCCGGAGTCTGCTGCAGCGCTGGGGCGCCAGTT...   \n",
              "2999  ATGTCGGAGGTGACCCGGAGTCTGCTGCAGCGCTGGGGCGCCAGTT...   \n",
              "\n",
              "                                              UTR3_seqs Chromosome UTR5_len  \\\n",
              "0     GTGACGCAATCAATGTTTACTCGAACAGAATGCATTTCTTCACTCC...          8      175   \n",
              "1     GTGACGCAATCAATGTTTACTCGAACAGAATGCATTTCTTCACTCC...          8      175   \n",
              "2     GTGACGCAATCAATGTTTACTCGAACAGAATGCATTTCTTCACTCC...          8      175   \n",
              "3     GTGACGCAATCAATGTTTACTCGAACAGAATGCATTTCTTCACTCC...          8      175   \n",
              "4     GTGACGCAATCAATGTTTACTCGAACAGAATGCATTTCTTCACTCC...          8      175   \n",
              "...                                                 ...        ...      ...   \n",
              "2995  TCCTGACATGATGAACCTGGAACTTCTGTGAATTTTACCACTCAGT...          1      207   \n",
              "2996  TCCTGACATGATGAACCTGGAACTTCTGTGAATTTTACCACTCAGT...          1      207   \n",
              "2997  TCCTGACATGATGAACCTGGAACTTCTGTGAATTTTACCACTCAGT...          1      207   \n",
              "2998  TCCTGACATGATGAACCTGGAACTTCTGTGAATTTTACCACTCAGT...          1      207   \n",
              "2999  TCCTGACATGATGAACCTGGAACTTCTGTGAATTTTACCACTCAGT...          1      207   \n",
              "\n",
              "           Exon_Junctions_In_Full_Sequence  \n",
              "0                                  254,800  \n",
              "1                                  254,800  \n",
              "2                                  254,800  \n",
              "3                                  254,800  \n",
              "4                                  254,800  \n",
              "...                                    ...  \n",
              "2995  317,387,441,496,560,667,790,913,1031  \n",
              "2996  317,387,441,496,560,667,790,913,1031  \n",
              "2997  317,387,441,496,560,667,790,913,1031  \n",
              "2998  317,387,441,496,560,667,790,913,1031  \n",
              "2999  317,387,441,496,560,667,790,913,1031  \n",
              "\n",
              "[3000 rows x 8 columns]"
            ],
            "text/html": [
              "<div>\n",
              "<style scoped>\n",
              "    .dataframe tbody tr th:only-of-type {\n",
              "        vertical-align: middle;\n",
              "    }\n",
              "\n",
              "    .dataframe tbody tr th {\n",
              "        vertical-align: top;\n",
              "    }\n",
              "\n",
              "    .dataframe thead th {\n",
              "        text-align: right;\n",
              "    }\n",
              "</style>\n",
              "<table border=\"1\" class=\"dataframe\">\n",
              "  <thead>\n",
              "    <tr style=\"text-align: right;\">\n",
              "      <th></th>\n",
              "      <th>geneID</th>\n",
              "      <th>zscore</th>\n",
              "      <th>UTR5_seqs</th>\n",
              "      <th>ORF_seqs</th>\n",
              "      <th>UTR3_seqs</th>\n",
              "      <th>Chromosome</th>\n",
              "      <th>UTR5_len</th>\n",
              "      <th>Exon_Junctions_In_Full_Sequence</th>\n",
              "    </tr>\n",
              "  </thead>\n",
              "  <tbody>\n",
              "    <tr>\n",
              "      <th>0</th>\n",
              "      <td>ENSG00000019549</td>\n",
              "      <td>-2.730303</td>\n",
              "      <td>AAAACGGGCTCAGTTCGTAAAGGAGCCGGGTGACTTCAGAGGCGCC...</td>\n",
              "      <td>ATGCCGCGCTCCTTCCTGGTCAAGAAGCATTTCAACGCCTCCAAAA...</td>\n",
              "      <td>GTGACGCAATCAATGTTTACTCGAACAGAATGCATTTCTTCACTCC...</td>\n",
              "      <td>8</td>\n",
              "      <td>175</td>\n",
              "      <td>254,800</td>\n",
              "    </tr>\n",
              "    <tr>\n",
              "      <th>1</th>\n",
              "      <td>ENSG00000019549</td>\n",
              "      <td>-2.730303</td>\n",
              "      <td>AAAACGGGCTCAGTTCGTAAAGGAGCCGGGTGACTTCAGAGGCGCC...</td>\n",
              "      <td>ATGCCGCGCTCCTTCCTGGTCAAGAAGCATTTCAACGCCTCCAAAA...</td>\n",
              "      <td>GTGACGCAATCAATGTTTACTCGAACAGAATGCATTTCTTCACTCC...</td>\n",
              "      <td>8</td>\n",
              "      <td>175</td>\n",
              "      <td>254,800</td>\n",
              "    </tr>\n",
              "    <tr>\n",
              "      <th>2</th>\n",
              "      <td>ENSG00000019549</td>\n",
              "      <td>-2.730303</td>\n",
              "      <td>AAAACGGGCTCAGTTCGTAAAGTAACGTTATGAGCCGGGTGACTTC...</td>\n",
              "      <td>ATGCCGCGCTCCTTCCTGGTCAAGAAGCATTTCAACGCCTCCAAAA...</td>\n",
              "      <td>GTGACGCAATCAATGTTTACTCGAACAGAATGCATTTCTTCACTCC...</td>\n",
              "      <td>8</td>\n",
              "      <td>175</td>\n",
              "      <td>254,800</td>\n",
              "    </tr>\n",
              "    <tr>\n",
              "      <th>3</th>\n",
              "      <td>ENSG00000019549</td>\n",
              "      <td>-2.730303</td>\n",
              "      <td>AAAACGGGCTCAGTTCGTAAAGGAGCCGGGTGACTTCAGAGGCGCC...</td>\n",
              "      <td>ATGCCGCGCTCCTTCCTGGTCAAGAAGCATTTCAACGCCTCCAAAA...</td>\n",
              "      <td>GTGACGCAATCAATGTTTACTCGAACAGAATGCATTTCTTCACTCC...</td>\n",
              "      <td>8</td>\n",
              "      <td>175</td>\n",
              "      <td>254,800</td>\n",
              "    </tr>\n",
              "    <tr>\n",
              "      <th>4</th>\n",
              "      <td>ENSG00000019549</td>\n",
              "      <td>-2.730303</td>\n",
              "      <td>AAAACGGGCTCAGTTCGTAAAGGAGCCGGGTGACTTCTAACGTTAT...</td>\n",
              "      <td>ATGCCGCGCTCCTTCCTGGTCAAGAAGCATTTCAACGCCTCCAAAA...</td>\n",
              "      <td>GTGACGCAATCAATGTTTACTCGAACAGAATGCATTTCTTCACTCC...</td>\n",
              "      <td>8</td>\n",
              "      <td>175</td>\n",
              "      <td>254,800</td>\n",
              "    </tr>\n",
              "    <tr>\n",
              "      <th>...</th>\n",
              "      <td>...</td>\n",
              "      <td>...</td>\n",
              "      <td>...</td>\n",
              "      <td>...</td>\n",
              "      <td>...</td>\n",
              "      <td>...</td>\n",
              "      <td>...</td>\n",
              "      <td>...</td>\n",
              "    </tr>\n",
              "    <tr>\n",
              "      <th>2995</th>\n",
              "      <td>ENSG00000186063</td>\n",
              "      <td>1.505459</td>\n",
              "      <td>CGGGGTCTCGGCGGGGCGGTCGCTTTGGAGCCGCAAAGTTTGGCTG...</td>\n",
              "      <td>ATGTCGGAGGTGACCCGGAGTCTGCTGCAGCGCTGGGGCGCCAGTT...</td>\n",
              "      <td>TCCTGACATGATGAACCTGGAACTTCTGTGAATTTTACCACTCAGT...</td>\n",
              "      <td>1</td>\n",
              "      <td>207</td>\n",
              "      <td>317,387,441,496,560,667,790,913,1031</td>\n",
              "    </tr>\n",
              "    <tr>\n",
              "      <th>2996</th>\n",
              "      <td>ENSG00000186063</td>\n",
              "      <td>1.505459</td>\n",
              "      <td>CGGGGTCTCGGCGGGGCGGTCGCTTTGGAGCCGCAAAGTTTGGCTG...</td>\n",
              "      <td>ATGTCGGAGGTGACCCGGAGTCTGCTGCAGCGCTGGGGCGCCAGTT...</td>\n",
              "      <td>TCCTGACATGATGAACCTGGAACTTCTGTGAATTTTACCACTCAGT...</td>\n",
              "      <td>1</td>\n",
              "      <td>207</td>\n",
              "      <td>317,387,441,496,560,667,790,913,1031</td>\n",
              "    </tr>\n",
              "    <tr>\n",
              "      <th>2997</th>\n",
              "      <td>ENSG00000186063</td>\n",
              "      <td>1.505459</td>\n",
              "      <td>CGGGGTCTCGGCGGGGCGGTCGCTTTGGAGCCGCAAAGTTTGGCTG...</td>\n",
              "      <td>ATGTCGGAGGTGACCCGGAGTCTGCTGCAGCGCTGGGGCGCCAGTT...</td>\n",
              "      <td>TCCTGACATGATGAACCTGGAACTTCTGTGAATTTTACCACTCAGT...</td>\n",
              "      <td>1</td>\n",
              "      <td>207</td>\n",
              "      <td>317,387,441,496,560,667,790,913,1031</td>\n",
              "    </tr>\n",
              "    <tr>\n",
              "      <th>2998</th>\n",
              "      <td>ENSG00000186063</td>\n",
              "      <td>1.505459</td>\n",
              "      <td>CGGGGTCTCGGCGGGGCGGTCGCTTTGGAGCCGCAAAGTTTGGCTG...</td>\n",
              "      <td>ATGTCGGAGGTGACCCGGAGTCTGCTGCAGCGCTGGGGCGCCAGTT...</td>\n",
              "      <td>TCCTGACATGATGAACCTGGAACTTCTGTGAATTTTACCACTCAGT...</td>\n",
              "      <td>1</td>\n",
              "      <td>207</td>\n",
              "      <td>317,387,441,496,560,667,790,913,1031</td>\n",
              "    </tr>\n",
              "    <tr>\n",
              "      <th>2999</th>\n",
              "      <td>ENSG00000186063</td>\n",
              "      <td>1.505459</td>\n",
              "      <td>CGGGGTCTCGGCGGGGCGGTCGCTTTGGAGCCGCAAAGTTTGGCTG...</td>\n",
              "      <td>ATGTCGGAGGTGACCCGGAGTCTGCTGCAGCGCTGGGGCGCCAGTT...</td>\n",
              "      <td>TCCTGACATGATGAACCTGGAACTTCTGTGAATTTTACCACTCAGT...</td>\n",
              "      <td>1</td>\n",
              "      <td>207</td>\n",
              "      <td>317,387,441,496,560,667,790,913,1031</td>\n",
              "    </tr>\n",
              "  </tbody>\n",
              "</table>\n",
              "<p>3000 rows × 8 columns</p>\n",
              "</div>"
            ]
          },
          "metadata": {},
          "execution_count": 30
        }
      ]
    },
    {
      "cell_type": "code",
      "source": [
        "max_len = 10000 #this is slightly longer than the 95% quantile, but lower than Saluki's implementation\n",
        "\n",
        "def pad_sequence(seqs, max_len, anchor='start', value='N'):\n",
        "  return [fixed_len(seq, max_len, anchor=anchor) for seq in seqs.astype(\"string\")]\n",
        "\n",
        "untouched_UTR5 = clean_seqs_utr5['UTR5_seqs'] + clean_seqs_utr5['ORF_seqs'] + clean_seqs_utr5['UTR3_seqs']\n",
        "untouched_UTR3 = clean_seqs_utr3['UTR5_seqs'] + clean_seqs_utr3['ORF_seqs'] + clean_seqs_utr3['UTR3_seqs']\n",
        "seqs_utf5_motif_seqs = seqs_utf5_motif['UTR5_seqs'] + seqs_utf5_motif['ORF_seqs'] + seqs_utf5_motif['UTR3_seqs']\n",
        "seqs_utf3_motif_seqs = clean_seqs_utr3['UTR5_seqs'] + clean_seqs_utr3['ORF_seqs'] + clean_seqs_utr3['UTR3_seqs']\n",
        "\n",
        "fixed_len_seqs_untouched_UTR5 = np.array(pad_sequence(untouched_UTR5, max_len))\n",
        "fixed_len_seqs_untouched_UTR3 = np.array(pad_sequence(untouched_UTR3, max_len))\n",
        "fixed_len_seqs_motif_UTR5 = np.array(pad_sequence(seqs_utf5_motif_seqs, max_len))\n",
        "fixed_len_seqs_motif_UTR3 = np.array(pad_sequence(seqs_utf3_motif_seqs, max_len))"
      ],
      "metadata": {
        "id": "y8oUTj9w-XQg"
      },
      "execution_count": null,
      "outputs": []
    },
    {
      "cell_type": "code",
      "source": [
        "# one hot for track 1-4: the nucleotides \n",
        "\n",
        "one_hot_seqs_untouched_UTR5 = np.array([one_hot(seq, neutral_value=0) for seq in fixed_len_seqs_untouched_UTR5])\n",
        "one_hot_seqs_untouched_UTR3 = np.array([one_hot(seq, neutral_value=0) for seq in fixed_len_seqs_untouched_UTR3])\n",
        "\n",
        "one_hot_seqs_motif_UTR5 = np.array([one_hot(seq, neutral_value=0) for seq in fixed_len_seqs_motif_UTR5])\n",
        "one_hot_seqs_motif_UTR3 = np.array([one_hot(seq, neutral_value=0) for seq in fixed_len_seqs_motif_UTR3])"
      ],
      "metadata": {
        "id": "PdyuPKVL_0QT"
      },
      "execution_count": null,
      "outputs": []
    },
    {
      "cell_type": "code",
      "source": [
        "one_hot_seqs_untouched_UTR5.shape"
      ],
      "metadata": {
        "colab": {
          "base_uri": "https://localhost:8080/"
        },
        "id": "fR7sykQtwp9Z",
        "outputId": "0a6df6de-7ef5-4b4b-8d34-30feb58d2004"
      },
      "execution_count": null,
      "outputs": [
        {
          "output_type": "execute_result",
          "data": {
            "text/plain": [
              "(3000, 10000, 4)"
            ]
          },
          "metadata": {},
          "execution_count": 33
        }
      ]
    },
    {
      "cell_type": "code",
      "source": [
        "exons_untouched_UTR5 = []\n",
        "\n",
        "for i in range(len(clean_seqs_utr5)):\n",
        "  onehot = np.repeat(0, repeats = max_len)\n",
        "  if(isinstance(clean_seqs_utr5[\"Exon_Junctions_In_Full_Sequence\"][i], str)):\n",
        "    current_exons = list(map(int, clean_seqs_utr5[\"Exon_Junctions_In_Full_Sequence\"][i].split(\",\")))\n",
        "    assert len(current_exons) > 0\n",
        "    positions_capped = [x for x in current_exons if x <= 9999] # delete all exon junctions after 10000 since we're capping the sequence there\n",
        "    onehot[positions_capped] = 1\n",
        "  exons_untouched_UTR5.append(onehot)"
      ],
      "metadata": {
        "id": "2BPJA4mXrzHn"
      },
      "execution_count": null,
      "outputs": []
    },
    {
      "cell_type": "code",
      "source": [
        "exons_untouched_UTR3 = []\n",
        "\n",
        "for i in range(len(clean_seqs_utr3)):\n",
        "  onehot = np.repeat(0, repeats = max_len)\n",
        "  if(isinstance(clean_seqs_utr3[\"Exon_Junctions_In_Full_Sequence\"][i], str)):\n",
        "    current_exons = list(map(int, clean_seqs_utr3[\"Exon_Junctions_In_Full_Sequence\"][i].split(\",\")))\n",
        "    assert len(current_exons) > 0\n",
        "    positions_capped = [x for x in current_exons if x <= 9999] # delete all exon junctions after 10000 since we're capping the sequence there\n",
        "    onehot[positions_capped] = 1\n",
        "  exons_untouched_UTR3.append(onehot)"
      ],
      "metadata": {
        "id": "aSHrN34ksQu1"
      },
      "execution_count": null,
      "outputs": []
    },
    {
      "cell_type": "code",
      "source": [
        "# one hot for track 5: the exon binding sites\n",
        "# dunno why, I guess I still suck at python, but this took me over an hours to code and bugfix\n",
        "# lol this is future me from the next day, this was wrong and I had redo all the training\n",
        "\n",
        "exons_motif_UTR5 = []\n",
        "\n",
        "for i in range(len(seqs_utf5_motif)):\n",
        "  onehot = np.repeat(0, repeats = max_len)\n",
        "  if(isinstance(seqs_utf5_motif[\"Exon_Junctions_In_Full_Sequence\"][i], str)):\n",
        "    current_exons = list(map(int, seqs_utf5_motif[\"Exon_Junctions_In_Full_Sequence\"][i].split(\",\")))\n",
        "    assert len(current_exons) > 0\n",
        "    positions_capped = np.array([x for x in current_exons if x <= 9999]) # delete all exon junctions after 10000 since we're capping the sequence there\n",
        "    positions_capped += len(motif) #shift the exon junctions by motif length if motif in 5'UTR\n",
        "    onehot[positions_capped.clip(max=9999)] = 1\n",
        "  exons_motif_UTR5.append(onehot)"
      ],
      "metadata": {
        "id": "27vK8R2SAD9d"
      },
      "execution_count": null,
      "outputs": []
    },
    {
      "cell_type": "code",
      "source": [
        "exons_motif_UTR3 = []\n",
        "\n",
        "for i in range(len(seqs_utf3_motif)):\n",
        "  onehot = np.repeat(0, repeats = max_len)\n",
        "  if(isinstance(seqs_utf3_motif[\"Exon_Junctions_In_Full_Sequence\"][i], str)):\n",
        "    current_exons = list(map(int, seqs_utf3_motif[\"Exon_Junctions_In_Full_Sequence\"][i].split(\",\")))\n",
        "    assert len(current_exons) > 0\n",
        "    positions_capped = np.array([x for x in current_exons if x <= 9999]) # delete all exon junctions after 10000 since we're capping the sequence there\n",
        "    positions_capped += len(motif) #shift the exon junctions by motif length if motif in 5'UTR\n",
        "    onehot[positions_capped.clip(max=9999)] = 1\n",
        "  exons_motif_UTR3.append(onehot)"
      ],
      "metadata": {
        "id": "wHm5eJQOsk6K"
      },
      "execution_count": null,
      "outputs": []
    },
    {
      "cell_type": "code",
      "source": [
        "np.array(exons_untouched_UTR3).shape"
      ],
      "metadata": {
        "id": "32CCP57l1Y_x",
        "colab": {
          "base_uri": "https://localhost:8080/"
        },
        "outputId": "519f08e1-95d8-40d7-9878-b9cb866dee6b"
      },
      "execution_count": null,
      "outputs": [
        {
          "output_type": "execute_result",
          "data": {
            "text/plain": [
              "(3000, 10000)"
            ]
          },
          "metadata": {},
          "execution_count": 38
        }
      ]
    },
    {
      "cell_type": "code",
      "source": [
        "#one hot for track 6: Marking the beginning of each codon with 1\n",
        "starts_untouched_UTR5 = []\n",
        "for i in range(len(clean_seqs_utr5)):\n",
        "  #assert len(sequences['ORF_seqs'].astype(\"string\")[i]) % 3 == 0 \n",
        "  lst = list(range(len(clean_seqs_utr5['ORF_seqs'].astype(\"string\")[i])))\n",
        "  onehot = np.repeat(0, repeats = len(clean_seqs_utr5['ORF_seqs'].astype(\"string\")[i]))\n",
        "  onehot[lst[0::3]] = 1\n",
        "  full = np.concatenate((np.repeat([0], repeats = len(clean_seqs_utr5['UTR5_seqs'].astype(\"string\")[i])),\n",
        "                         onehot,\n",
        "                         np.repeat([0], repeats = len(clean_seqs_utr5['UTR3_seqs'].astype(\"string\")[i]))), axis=None)\n",
        "  if (len(full) > max_len):\n",
        "    full = full[:max_len]\n",
        "  elif (len(full) < max_len):\n",
        "    full = np.concatenate((full, np.repeat(0, repeats = max_len - len(full))),axis = None)\n",
        "  starts_untouched_UTR5.append(full)"
      ],
      "metadata": {
        "id": "pRuNTsz4AHLE"
      },
      "execution_count": null,
      "outputs": []
    },
    {
      "cell_type": "code",
      "source": [
        "#one hot for track 6: Marking the beginning of each codon with 1\n",
        "starts_untouched_UTR3 = []\n",
        "for i in range(len(clean_seqs_utr3)):\n",
        "  #assert len(sequences['ORF_seqs'].astype(\"string\")[i]) % 3 == 0 \n",
        "  lst = list(range(len(clean_seqs_utr3['ORF_seqs'].astype(\"string\")[i])))\n",
        "  onehot = np.repeat(0, repeats = len(clean_seqs_utr3['ORF_seqs'].astype(\"string\")[i]))\n",
        "  onehot[lst[0::3]] = 1\n",
        "  full = np.concatenate((np.repeat([0], repeats = len(clean_seqs_utr3['UTR5_seqs'].astype(\"string\")[i])),\n",
        "                         onehot,\n",
        "                         np.repeat([0], repeats = len(clean_seqs_utr3['UTR3_seqs'].astype(\"string\")[i]))), axis=None)\n",
        "  if (len(full) > max_len):\n",
        "    full = full[:max_len]\n",
        "  elif (len(full) < max_len):\n",
        "    full = np.concatenate((full, np.repeat(0, repeats = max_len - len(full))),axis = None)\n",
        "  starts_untouched_UTR3.append(full)"
      ],
      "metadata": {
        "id": "ndO5nOISv8Xw"
      },
      "execution_count": null,
      "outputs": []
    },
    {
      "cell_type": "code",
      "source": [
        "starts_motif_UTR5 = []\n",
        "for i in range(len(seqs_utf5_motif)):\n",
        "  #assert len(sequences['ORF_seqs'].astype(\"string\")[i]) % 3 == 0 \n",
        "  lst = list(range(len(seqs_utf5_motif['ORF_seqs'].astype(\"string\")[i])))\n",
        "  onehot = np.repeat(0, repeats = len(seqs_utf5_motif['ORF_seqs'].astype(\"string\")[i]))\n",
        "  onehot[lst[0::3]] = 1\n",
        "  full = np.concatenate((np.repeat([0], repeats = len(seqs_utf5_motif['UTR5_seqs'].astype(\"string\")[i])),\n",
        "                         onehot,\n",
        "                         np.repeat([0], repeats = len(seqs_utf5_motif['UTR3_seqs'].astype(\"string\")[i]))), axis=None)\n",
        "  if (len(full) > max_len):\n",
        "    full = full[:max_len]\n",
        "  elif (len(full) < max_len):\n",
        "    full = np.concatenate((full, np.repeat(0, repeats = max_len - len(full))),axis = None)\n",
        "  starts_motif_UTR5.append(full)"
      ],
      "metadata": {
        "id": "jWTv6etfsOmV"
      },
      "execution_count": null,
      "outputs": []
    },
    {
      "cell_type": "code",
      "source": [
        "starts_motif_UTR3 = []\n",
        "for i in range(len(seqs_utf3_motif)):\n",
        "  #assert len(sequences['ORF_seqs'].astype(\"string\")[i]) % 3 == 0 \n",
        "  lst = list(range(len(seqs_utf3_motif['ORF_seqs'].astype(\"string\")[i])))\n",
        "  onehot = np.repeat(0, repeats = len(seqs_utf3_motif['ORF_seqs'].astype(\"string\")[i]))\n",
        "  onehot[lst[0::3]] = 1\n",
        "  full = np.concatenate((np.repeat([0], repeats = len(seqs_utf3_motif['UTR5_seqs'].astype(\"string\")[i])),\n",
        "                         onehot,\n",
        "                         np.repeat([0], repeats = len(seqs_utf3_motif['UTR3_seqs'].astype(\"string\")[i]))), axis=None)\n",
        "  if (len(full) > max_len):\n",
        "    full = full[:max_len]\n",
        "  elif (len(full) < max_len):\n",
        "    full = np.concatenate((full, np.repeat(0, repeats = max_len - len(full))),axis = None)\n",
        "  starts_motif_UTR3.append(full)"
      ],
      "metadata": {
        "id": "OKic77xrwLvH"
      },
      "execution_count": null,
      "outputs": []
    },
    {
      "cell_type": "code",
      "source": [
        "np.array(starts_motif_UTR3).shape"
      ],
      "metadata": {
        "id": "jjuLOCH01V1M",
        "colab": {
          "base_uri": "https://localhost:8080/"
        },
        "outputId": "e50e8d71-841b-42db-9523-db40041e5ac1"
      },
      "execution_count": null,
      "outputs": [
        {
          "output_type": "execute_result",
          "data": {
            "text/plain": [
              "(3000, 10000)"
            ]
          },
          "metadata": {},
          "execution_count": 43
        }
      ]
    },
    {
      "cell_type": "code",
      "source": [
        "one_hot_seqs_untouched_UTR5.shape"
      ],
      "metadata": {
        "colab": {
          "base_uri": "https://localhost:8080/"
        },
        "id": "Uo3crYDVwgOh",
        "outputId": "501acad8-d86e-4fea-830f-da6e7bdaa2f5"
      },
      "execution_count": null,
      "outputs": [
        {
          "output_type": "execute_result",
          "data": {
            "text/plain": [
              "(3000, 10000, 4)"
            ]
          },
          "metadata": {},
          "execution_count": 44
        }
      ]
    },
    {
      "cell_type": "code",
      "source": [
        "onehot_untouched_utr5 = np.concatenate((one_hot_seqs_untouched_UTR5,np.array(exons_untouched_UTR5)[:, :, None], np.array(starts_untouched_UTR5)[:, :, None]), axis = 2)"
      ],
      "metadata": {
        "id": "6ZpZoaGuPp3c"
      },
      "execution_count": null,
      "outputs": []
    },
    {
      "cell_type": "code",
      "source": [
        "onehot_untouched_utr3 = np.concatenate((one_hot_seqs_untouched_UTR3,np.array(exons_untouched_UTR3)[:, :, None], np.array(starts_untouched_UTR3)[:, :, None]), axis = 2)"
      ],
      "metadata": {
        "id": "rDkT9i0rwdkR"
      },
      "execution_count": null,
      "outputs": []
    },
    {
      "cell_type": "code",
      "source": [
        "onehot_motif_utr5 = np.concatenate((one_hot_seqs_motif_UTR5,np.array(exons_motif_UTR5)[:, :, None], np.array(starts_motif_UTR5)[:, :, None]), axis = 2)"
      ],
      "metadata": {
        "id": "JS99rG8msZ_9"
      },
      "execution_count": null,
      "outputs": []
    },
    {
      "cell_type": "code",
      "source": [
        "onehot_motif_utr3 = np.concatenate((one_hot_seqs_motif_UTR3,np.array(exons_motif_UTR3)[:, :, None], np.array(starts_motif_UTR3)[:, :, None]), axis = 2)"
      ],
      "metadata": {
        "id": "mxOOmO83xy4o"
      },
      "execution_count": null,
      "outputs": []
    },
    {
      "cell_type": "code",
      "source": [
        "model23 = keras.models.load_model('my_saluki5_23_v2.h5')\n",
        "model23.load_weights(\"best_weights23\")"
      ],
      "metadata": {
        "id": "Jn-2u1L_wi6k",
        "colab": {
          "base_uri": "https://localhost:8080/"
        },
        "outputId": "01be8cc1-8b6c-423c-e81e-8da59eadb8e1"
      },
      "execution_count": null,
      "outputs": [
        {
          "output_type": "execute_result",
          "data": {
            "text/plain": [
              "<tensorflow.python.training.tracking.util.CheckpointLoadStatus at 0x27d9baf8b20>"
            ]
          },
          "metadata": {},
          "execution_count": 49
        }
      ]
    },
    {
      "cell_type": "code",
      "source": [
        "# My GPU can't handle the whole thing at once\n",
        "y_utr5_clean_1 = model23.predict(onehot_untouched_utr5[:2500], verbose=1)\n",
        "y_utr5_clean_2 = model23.predict(onehot_untouched_utr5[2500:], verbose=1)\n",
        "y_utr3_clean_1 = model23.predict(onehot_untouched_utr3[:2500], verbose=1)\n",
        "y_utr3_clean_2 = model23.predict(onehot_untouched_utr3[2500:], verbose=1)\n",
        "y_utr5_motif_1 = model23.predict(onehot_motif_utr5[:2500], verbose=1)\n",
        "y_utr5_motif_2 = model23.predict(onehot_motif_utr5[2500:], verbose=1)\n",
        "y_utr3_motif_1 = model23.predict(onehot_motif_utr3[:2500], verbose=1)\n",
        "y_utr3_motif_2 = model23.predict(onehot_motif_utr3[2500:], verbose=1)\n",
        "\n",
        "y_utr5_clean = np.concatenate((y_utr5_clean_1, y_utr5_clean_2),axis = 0)\n",
        "y_utr3_clean = np.concatenate((y_utr3_clean_1, y_utr3_clean_2),axis = 0)\n",
        "y_utr5_motif = np.concatenate((y_utr5_motif_1, y_utr5_motif_2),axis = 0)\n",
        "y_utr3_motif = np.concatenate((y_utr3_motif_1, y_utr3_motif_2),axis = 0)\n",
        "\n",
        "print(y_utr5_clean.shape)"
      ],
      "metadata": {
        "id": "daWoXCFc_kGx",
        "colab": {
          "base_uri": "https://localhost:8080/"
        },
        "outputId": "db96073a-ecd8-4bfa-c714-7af08d992c41"
      },
      "execution_count": null,
      "outputs": [
        {
          "output_type": "stream",
          "name": "stdout",
          "text": [
            "79/79 [==============================] - 13s 35ms/step\n",
            "16/16 [==============================] - 1s 49ms/step\n",
            "79/79 [==============================] - 3s 36ms/step\n",
            "16/16 [==============================] - 1s 38ms/step\n",
            "79/79 [==============================] - 3s 34ms/step\n",
            "16/16 [==============================] - 0s 28ms/step\n",
            "79/79 [==============================] - 3s 33ms/step\n",
            "16/16 [==============================] - 1s 31ms/step\n",
            "(3000, 1)\n"
          ]
        }
      ]
    },
    {
      "cell_type": "code",
      "source": [
        "size_insert\n",
        "sequence_ind = np.repeat(np.array(range(20))+1,150)\n"
      ],
      "metadata": {
        "id": "yj-Jf_o32r58"
      },
      "execution_count": null,
      "outputs": []
    },
    {
      "cell_type": "code",
      "source": [
        "np.array(range(20))"
      ],
      "metadata": {
        "colab": {
          "base_uri": "https://localhost:8080/"
        },
        "id": "iBHtn0BD3C_8",
        "outputId": "89e2b661-968b-4b68-8691-558edfbe086c"
      },
      "execution_count": null,
      "outputs": [
        {
          "output_type": "execute_result",
          "data": {
            "text/plain": [
              "array([ 0,  1,  2,  3,  4,  5,  6,  7,  8,  9, 10, 11, 12, 13, 14, 15, 16,\n",
              "       17, 18, 19])"
            ]
          },
          "metadata": {},
          "execution_count": 52
        }
      ]
    },
    {
      "cell_type": "code",
      "source": [
        "#!pip install colorcet"
      ],
      "metadata": {
        "colab": {
          "base_uri": "https://localhost:8080/"
        },
        "id": "CvI6FneiCk5I",
        "outputId": "e616617b-d7ac-4c6a-87c9-e42e8904bf33"
      },
      "execution_count": null,
      "outputs": [
        {
          "output_type": "stream",
          "name": "stdout",
          "text": [
            "Collecting colorcet\n",
            "  Downloading colorcet-3.0.0-py2.py3-none-any.whl (1.6 MB)\n",
            "     ---------------------------------------- 1.6/1.6 MB 3.7 MB/s eta 0:00:00\n",
            "Collecting pyct>=0.4.4\n",
            "  Downloading pyct-0.4.8-py2.py3-none-any.whl (15 kB)\n",
            "Collecting param>=1.7.0\n",
            "  Downloading param-1.12.2-py2.py3-none-any.whl (86 kB)\n",
            "     ---------------------------------------- 86.8/86.8 kB 4.8 MB/s eta 0:00:00\n",
            "Installing collected packages: param, pyct, colorcet\n",
            "Successfully installed colorcet-3.0.0 param-1.12.2 pyct-0.4.8\n",
            "\n",
            "[notice] A new release of pip available: 22.1.2 -> 22.2\n",
            "[notice] To update, run: python.exe -m pip install --upgrade pip\n"
          ]
        }
      ]
    },
    {
      "cell_type": "code",
      "source": [
        "import colorcet as cc\n"
      ],
      "metadata": {
        "id": "F-vgLDP-CidM"
      },
      "execution_count": null,
      "outputs": []
    },
    {
      "cell_type": "code",
      "source": [
        "def hue_regplot(data, x, y, hue, palette=None, **kwargs):\n",
        "    from matplotlib.cm import get_cmap\n",
        "    \n",
        "    regplots = []\n",
        "    levels = data[hue].unique()\n",
        "\n",
        "    for key in levels:\n",
        "        regplots.append(\n",
        "            sns.regplot(\n",
        "                x=x,\n",
        "                y=y,\n",
        "                data=data[data[hue] == key],\n",
        "                color=palette[key],\n",
        "                **kwargs\n",
        "            )\n",
        "        )\n",
        "    return regplots"
      ],
      "metadata": {
        "id": "Y8h0jJU-ByCz"
      },
      "execution_count": null,
      "outputs": []
    },
    {
      "cell_type": "code",
      "source": [
        "# separate plots\n",
        "sns.set_theme(style=\"whitegrid\")\n",
        "\n",
        "# Make an example dataset with y ~ x\n",
        "y_utr5 = y_utr5_motif - y_utr5_clean\n",
        "y_utr3 = y_utr3_motif - y_utr3_clean\n",
        "\n",
        "d5 = {\"Insertion Index in 5'UTR\": insertion_indices_utr5, \"Prediction Shift\": y_utr5.squeeze(), \"Sequence\": sequence_ind}\n",
        "d3 = {\"Insertion Index in 3'UTR\": insertion_indices_utr3, \"Prediction Shift\": y_utr3.squeeze(), \"Sequence\": sequence_ind}\n",
        "\n",
        "df_utr5 = pd.DataFrame(data = d5)\n",
        "df_utr3 = pd.DataFrame(data = d3)\n",
        "\n",
        "f, (ax1, ax2) = plt.subplots(1, 2, sharey=True, figsize = (12,6))\n",
        "# ax1.plot(df.x, df.y)\n",
        "ax1.set_title(\"Motif UAASUUAU inserted into 5'UTR\")\n",
        "ax2.set_title(\"Motif UAASUUAU inserted into 3'UTR\")\n",
        "\n",
        "palette = sns.color_palette(cc.glasbey, n_colors=25)\n",
        "\n",
        "hue_regplot(data=df_utr5, x=\"Insertion Index in 5'UTR\", y=\"Prediction Shift\", hue='Sequence', ax=ax1, palette = palette)\n",
        "hue_regplot(data=df_utr3, x=\"Insertion Index in 3'UTR\", y=\"Prediction Shift\", hue='Sequence', ax=ax2, palette = palette)\n",
        "\n",
        "plt.show()"
      ],
      "metadata": {
        "id": "NMN3PCtDZz-M",
        "colab": {
          "base_uri": "https://localhost:8080/",
          "height": 405
        },
        "outputId": "6c1cd21d-80f4-4743-c299-c006fcfc9bc4"
      },
      "execution_count": null,
      "outputs": [
        {
          "output_type": "display_data",
          "data": {
            "text/plain": [
              "<Figure size 864x432 with 2 Axes>"
            ],
            "image/png": "[encoded data removed]"
          },
          "metadata": {}
        }
      ]
    }
  ]
}